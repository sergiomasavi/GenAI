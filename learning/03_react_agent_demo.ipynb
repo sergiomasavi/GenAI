{
 "cells": [
  {
   "cell_type": "markdown",
   "id": "header",
   "metadata": {},
   "source": [
    "# LangGraph ReAct Agent Implementation\n",
    "\n",
    "**Author**: Sergio Masa Avis  \n",
    "**Date**: October 2025\n",
    "\n",
    "Comprehensive implementation of a ReAct (Reasoning + Acting) agent using LangGraph framework. Demonstrates prebuilt agent patterns, tool integration, and real-time web search capabilities with professional-grade execution patterns.\n",
    "\n",
    "---\n",
    "\n",
    "## Table of Contents\n",
    "\n",
    "1. [LangGraph and ReAct Overview](#langgraph-and-react-overview)\n",
    "2. [Architecture and Framework Components](#architecture-and-framework-components)\n",
    "3. [Implementation](#implementation)\n",
    "4. [Agent Execution and Examples](#agent-execution-and-examples)\n",
    "5. [Advanced Features](#advanced-features)\n",
    "6. [References](#references)\n",
    "\n",
    "---"
   ]
  },
  {
   "cell_type": "markdown",
   "id": "langgraph-and-react-overview",
   "metadata": {},
   "source": [
    "## 1. LangGraph and ReAct Overview\n",
    "\n",
    "**LangGraph** is a framework for building stateful, multi-actor applications with LLMs, designed as a cyclical computational graph. It extends LangChain with graph-based execution patterns ideal for agent architectures.\n",
    "\n",
    "**ReAct Pattern in LangGraph** implements the Reasoning and Acting paradigm through prebuilt agent configurations that handle tool calling, state management, and execution flow automatically.\n",
    "\n",
    "### Core Framework Concepts\n",
    "\n",
    "- **Graph-Based Execution**: Agents operate as nodes in a computational graph with defined state transitions\n",
    "\n",
    "- **State Management**: Persistent conversation state across multiple interaction cycles\n",
    "\n",
    "- **Tool Integration**: Automatic tool calling with function schema generation and validation\n",
    "\n",
    "- **Streaming Support**: Real-time response generation and intermediate step visibility\n",
    "\n",
    "![ReAct Flow in LangGraph](images/03_react_langgraph/react_flow_langgraph.png)\n",
    "\n",
    "### LangGraph vs Custom ReAct Implementation\n",
    "\n",
    "| Aspect | Custom Implementation | LangGraph Framework |\n",
    "|--------|----------------------|--------------------|\n",
    "| **State Management** | Manual conversation history | Automatic state persistence |\n",
    "| **Tool Calling** | String parsing + regex | Native function calling |\n",
    "| **Error Handling** | Custom implementation | Built-in retry and fallback |\n",
    "| **Streaming** | Manual chunking | Native streaming support |\n",
    "| **Observability** | Custom logging | Integrated tracing |\n",
    "| **Scalability** | Single-threaded | Multi-node graph execution |\n",
    "\n",
    "### Problem Statement\n",
    "\n",
    "Traditional ReAct implementations face several challenges:\n",
    "- **Fragile parsing**: String-based action extraction prone to format errors\n",
    "- **State complexity**: Manual conversation history management\n",
    "- **Limited observability**: Difficult to trace execution flow\n",
    "- **Tool integration overhead**: Custom schema and validation logic\n",
    "- **Scalability constraints**: Single-execution-thread limitations\n",
    "\n",
    "LangGraph solutions:\n",
    "- Native OpenAI function calling for reliable tool invocation\n",
    "- Automatic state management with graph persistence\n",
    "- Built-in observability and execution tracing\n",
    "- Standardized tool integration through decorators\n",
    "- Graph-based parallelization and async execution\n",
    "\n",
    "---"
   ]
  },
  {
   "cell_type": "markdown",
   "id": "architecture-and-framework-components",
   "metadata": {},
   "source": [
    "## 2. Architecture and Framework Components\n",
    "\n",
    "LangGraph ReAct agents utilize a sophisticated architecture with multiple specialized components.\n",
    "\n",
    "### 2.1. Core Components\n",
    "\n",
    "#### 2.1.1. Agent Node\n",
    "- **Purpose**: LLM reasoning and decision-making hub\n",
    "- **Implementation**: ChatOpenAI integration with function calling\n",
    "- **Responsibilities**:\n",
    "    - Query analysis and reasoning\n",
    "    - Tool selection and invocation\n",
    "    - Response synthesis and formatting\n",
    "\n",
    "#### 2.2.2. Tools Node\n",
    "- **Purpose**: External function execution and API integration\n",
    "- **Implementation**: Decorated Python functions with automatic schema generation\n",
    "- **Capabilities**:\n",
    "    - Web search through Tavily API\n",
    "    - Date and time utilities\n",
    "    - Custom business logic integration\n",
    "\n",
    "#### 2.2.3. State Manager\n",
    "- **Purpose**: Conversation context preservation and message flow control\n",
    "- **Features**:\n",
    "    - Message history persistence\n",
    "    - Tool call tracking\n",
    "    - Metadata management\n",
    "\n",
    "### 2.2. Tool Integration Pattern\n",
    "LangGraph uses the `@tool` decorator pattern for seamless function integration:\n",
    "\n",
    "- **Schema Generation**: Automatic OpenAI function schema from type hints and docstrings\n",
    "- **Parameter Validation**: Runtime type checking and constraint validation\n",
    "- **Error Propagation**: Structured error handling with agent-readable messages\n",
    "\n",
    "### 2.3. Design Decisions\n",
    "| Component | Implementation Choice | Rationale |\n",
    "|-----------|----------------------|----------|\n",
    "| **LLM Provider** | ChatOpenAI (GPT-4) | Function calling reliability, reasoning quality |\n",
    "| **Web Search** | Tavily API | Specialized agent search, structured results |\n",
    "| **Agent Pattern** | Prebuilt ReAct | Production-ready, battle-tested implementation |\n",
    "| **State Persistence** | In-memory | Demo simplicity, easy inspection |\n",
    "| **Streaming Mode** | Values streaming | Real-time user feedback |\n",
    "\n",
    "---"
   ]
  },
  {
   "cell_type": "markdown",
   "id": "implementation",
   "metadata": {},
   "source": [
    "## 3. Implementation\n",
    "\n",
    "---"
   ]
  },
  {
   "cell_type": "markdown",
   "id": "31-environment-setup",
   "metadata": {},
   "source": [
    "### 3.1 Environment Setup and Dependencies\n",
    "\n",
    "Configure environment with required LangGraph, LangChain, and external API dependencies.\n",
    "\n",
    "**Key Dependencies**:\n",
    "- `langgraph`: Graph-based agent framework\n",
    "- `langchain-openai`: OpenAI model integrations\n",
    "- `langchain-tavily`: Web search capabilities\n",
    "- `langchain-core`: Tool and utility abstractions\n",
    "\n",
    "**Security**: API keys managed through environment variables to prevent credential exposure."
   ]
  },
  {
   "cell_type": "code",
   "execution_count": 20,
   "id": "setup-imports",
   "metadata": {},
   "outputs": [],
   "source": [
    "from datetime import datetime\n",
    "from dotenv import load_dotenv\n",
    "import os\n",
    "\n",
    "from langchain_core.tools import tool\n",
    "from langchain_openai import ChatOpenAI\n",
    "from langchain_tavily import TavilySearch\n",
    "from langchain.agents import create_agent\n",
    "\n",
    "from IPython.display import display, Image, Markdown\n",
    "\n",
    "# Load environment variables from .env file\n",
    "_ = load_dotenv()\n",
    "\n",
    "# Verify required API keys are available\n",
    "required_keys = [\"OPENAI_API_KEY\", \"TAVILY_API_KEY\"]\n",
    "for key in required_keys:\n",
    "    assert os.getenv(key), f\"Missing {key} environment variable\""
   ]
  },
  {
   "cell_type": "markdown",
   "id": "32-model-configuration",
   "metadata": {},
   "source": [
    "### 3.2 Language Model Configuration\n",
    "\n",
    "Initialize ChatOpenAI with optimal configuration for ReAct agent patterns.\n",
    "\n",
    "- **Model Selection**: GPT-4 chosen for superior reasoning capabilities and function calling reliability\n",
    "- **Temperature Setting**: 0 for deterministic outputs, ensuring consistent tool calling behavior\n",
    "- **Function Calling**: Automatic enablement through LangGraph integration"
   ]
  },
  {
   "cell_type": "code",
   "execution_count": null,
   "id": "model-setup",
   "metadata": {},
   "outputs": [],
   "source": [
    "# Initialize ChatOpenAI with GPT-4 for superior reasoning\n",
    "model = ChatOpenAI(\n",
    "    model_name=\"gpt-4\",\n",
    "    temperature=0         # Deterministic outputs for reliable tool usage\n",
    ")"
   ]
  },
  {
   "cell_type": "markdown",
   "id": "33-tool-configuration",
   "metadata": {},
   "source": [
    "### 3.3 Tool Configuration and Implementation\n",
    "\n",
    "Configure external tools and APIs for agent utilization.\n",
    "\n",
    "---"
   ]
  },
  {
   "cell_type": "markdown",
   "id": "331-web-search-tool",
   "metadata": {},
   "source": [
    "#### 3.3.1 Web Search Integration\n",
    "\n",
    "**Tavily Search API**: Specialized search engine optimized for AI agents with structured results and real-time data access.\n",
    "\n",
    "**Configuration**: Limited to 5 results for optimal LLM context window utilization."
   ]
  },
  {
   "cell_type": "code",
   "execution_count": 17,
   "id": "tavily-setup",
   "metadata": {},
   "outputs": [],
   "source": [
    "# Configure Tavily search tool\n",
    "# Note: Obtain Tavily API key from https://tavily.com/\n",
    "# Set TAVILY_API_KEY in your .env file\n",
    "tavily_search_tool = TavilySearch(\n",
    "    max_results=5  # Limit results for optimal context window usage\n",
    ")"
   ]
  },
  {
   "cell_type": "markdown",
   "id": "332-custom-tools",
   "metadata": {},
   "source": [
    "#### 3.3.2 Custom Tool Implementation\n",
    "\n",
    "Create custom tool using the `@tool` decorator pattern.\n",
    "\n",
    "**Implementation Pattern**:\n",
    "- Decorator-based function definition\n",
    "- Type hints for parameter validation\n",
    "- Comprehensive docstring for LLM understanding\n",
    "- Structured return values\n",
    "\n",
    "**Use Case**: Date utilities for time-sensitive queries requiring current temporal context."
   ]
  },
  {
   "cell_type": "code",
   "execution_count": 18,
   "id": "custom-tools",
   "metadata": {},
   "outputs": [],
   "source": [
    "@tool\n",
    "def get_current_date() -> str:\n",
    "    \"\"\"Returns the current date. Use this tool first for any time-based queries.\n",
    "\n",
    "    Returns:\n",
    "        str: Current date in YYYY-MM-DD format\n",
    "\n",
    "    Usage:\n",
    "        Essential for queries about \"today\", \"current\", \"recent\" events\n",
    "        Provides temporal context for time-sensitive information\n",
    "    \"\"\"\n",
    "    current_date = datetime.now().strftime('%Y-%m-%d')\n",
    "    return f\"The current date is: {current_date}\""
   ]
  },
  {
   "cell_type": "markdown",
   "id": "34-agent-initialization",
   "metadata": {},
   "source": [
    "### 3.4 Agent Initialization and Graph Creation\n",
    "\n",
    "Create the ReAct agent using LangGraph's prebuilt `create_react_agent` function.\n",
    "\n",
    "**Agent Components**:\n",
    "- **Model**: ChatOpenAI with function calling enabled\n",
    "- **Tools**: List of available functions for agent invocation\n",
    "- **Graph**: Automatically generated execution graph with agent and tool nodes\n",
    "\n",
    "**Graph Structure**: Two-node graph with agent reasoning and tool execution nodes connected by state transitions."
   ]
  },
  {
   "cell_type": "code",
   "execution_count": 21,
   "id": "agent-creation",
   "metadata": {},
   "outputs": [],
   "source": [
    "# Combine all tools into a single list\n",
    "tools = [tavily_search_tool, get_current_date]\n",
    "\n",
    "# Create the ReAct agent graph\n",
    "graph = create_agent(model=model, tools=tools)"
   ]
  },
  {
   "cell_type": "markdown",
   "id": "35-graph-visualization",
   "metadata": {},
   "source": [
    "### 3.5 Graph Visualization and Architecture Analysis\n",
    "\n",
    "Visualize the agent's execution graph to understand the decision-making flow.\n",
    "\n",
    "**Graph Components**:\n",
    "- **Start Node**: Input processing and state initialization\n",
    "- **Agent Node**: LLM reasoning and tool selection\n",
    "- **Tools Node**: External function execution\n",
    "- **End Node**: Response finalization and output\n",
    "\n",
    "**Execution Flow**: Cyclical pattern between agent reasoning and tool execution until task completion."
   ]
  },
  {
   "cell_type": "code",
   "execution_count": 22,
   "id": "graph-visualization",
   "metadata": {},
   "outputs": [
    {
     "data": {
      "image/png": "[encoded data removed]",
      "text/plain": [
       "<IPython.core.display.Image object>"
      ]
     },
     "metadata": {},
     "output_type": "display_data"
    }
   ],
   "source": [
    "# Visualize the agent's decision-making flow\n",
    "try:\n",
    "    graph_image = graph.get_graph().draw_mermaid_png()\n",
    "    display(Image(graph_image))\n",
    "except Exception as e:\n",
    "    print(f\"Visualization error: {e}\")"
   ]
  },
  {
   "cell_type": "markdown",
   "id": "agent-execution-and-examples",
   "metadata": {},
   "source": [
    "## 4. Agent Execution and Examples\n",
    "\n",
    "---"
   ]
  },
  {
   "cell_type": "markdown",
   "id": "41-execution-utilities",
   "metadata": {},
   "source": [
    "### 4.1 Execution Utilities and Helper Functions\n",
    "\n",
    "Implement utilities for clean agent interaction and response handling.\n",
    "\n",
    "**Design Principles**:\n",
    "- **Streaming support**: Real-time response visibility\n",
    "- **Markdown rendering**: Enhanced output formatting\n",
    "- **Message inspection**: Debug and analysis capabilities\n",
    "- **Error handling**: Graceful failure management"
   ]
  },
  {
   "cell_type": "code",
   "execution_count": 23,
   "id": "execution-utilities",
   "metadata": {},
   "outputs": [],
   "source": [
    "def render_markdown(content: str) -> None:\n",
    "    \"\"\"Render markdown content in Jupyter Notebook for enhanced readability.\n",
    "\n",
    "    Args:\n",
    "        content: Markdown-formatted string to display\n",
    "    \"\"\"\n",
    "    display(Markdown(content))\n",
    "\n",
    "def process_stream(stream) -> object:\n",
    "    \"\"\"\n",
    "    Process streaming agent responses with real-time output display.\n",
    "\n",
    "    Args:\n",
    "        stream: LangGraph streaming response iterator\n",
    "\n",
    "    Returns:\n",
    "        object: Final message object from the stream\n",
    "\n",
    "    Features:\n",
    "        - Real-time message display\n",
    "        - Pretty printing with formatting\n",
    "        - Handles multiple message types\n",
    "    \"\"\"\n",
    "    final_message = None\n",
    "\n",
    "    for chunk in stream:\n",
    "        # Extract the latest message from the chunk\n",
    "        if 'messages' in chunk and chunk['messages']:\n",
    "            message = chunk['messages'][-1]\n",
    "\n",
    "            # Handle different message types\n",
    "            if isinstance(message, tuple):\n",
    "                print(message)\n",
    "            else:\n",
    "                # Use pretty_print if available, otherwise print content\n",
    "                if hasattr(message, 'pretty_print'):\n",
    "                    message.pretty_print()\n",
    "                else:\n",
    "                    print(f\"Message: {getattr(message, 'content', str(message))}\")\n",
    "\n",
    "            final_message = message\n",
    "\n",
    "    return final_message\n",
    "\n",
    "def process_query(query: str) -> None:\n",
    "    \"\"\"\n",
    "    Complete query processing with streaming and formatted output.\n",
    "\n",
    "    Args:\n",
    "        query: User query string\n",
    "\n",
    "    Features:\n",
    "        - Streaming execution with real-time feedback\n",
    "        - Formatted markdown output\n",
    "        - Error handling and recovery\n",
    "    \"\"\"\n",
    "    try:\n",
    "        # Prepare input in LangGraph format\n",
    "        inputs = {\"messages\": [(\"user\", query)]}\n",
    "\n",
    "        # Stream the response with values mode\n",
    "        stream = graph.stream(inputs, stream_mode='values')\n",
    "        message = process_stream(stream)\n",
    "\n",
    "        # Render final answer in markdown format\n",
    "        if message and hasattr(message, 'content'):\n",
    "            render_markdown(f\"## Answer:\\n{message.content}\")\n",
    "        else:\n",
    "            print(\"Query completed but no final message content available\")\n",
    "\n",
    "    except Exception as e:\n",
    "        print(f\"Query processing error: {e}\")\n",
    "        print(\"Please check your API keys and network connection\")"
   ]
  },
  {
   "cell_type": "markdown",
   "id": "42-practical-examples",
   "metadata": {},
   "source": [
    "### 4.2 Practical Examples and Use Cases\n",
    "\n",
    "Demonstrate agent capabilities through real-world scenarios.\n",
    "\n",
    "---"
   ]
  },
  {
   "cell_type": "markdown",
   "id": "421-real-time-search",
   "metadata": {},
   "source": [
    "#### 4.2.1 Real-Time Sports Information Retrieval\n",
    "\n",
    "Query current sports results demonstrating web search integration and date awareness."
   ]
  },
  {
   "cell_type": "code",
   "execution_count": 24,
   "id": "sports-query",
   "metadata": {},
   "outputs": [
    {
     "name": "stdout",
     "output_type": "stream",
     "text": [
      "================================\u001b[1m Human Message \u001b[0m=================================\n",
      "\n",
      "Who won the latest Real Madrid vs Barcelona match? Provide the date of the match as well.\n",
      "==================================\u001b[1m Ai Message \u001b[0m==================================\n",
      "Tool Calls:\n",
      "  tavily_search (call_ciqMFcGWodlbNgcwRtFZ9D3b)\n",
      " Call ID: call_ciqMFcGWodlbNgcwRtFZ9D3b\n",
      "  Args:\n",
      "    query: latest Real Madrid vs Barcelona match winner\n",
      "    topic: news\n",
      "    time_range: month\n",
      "=================================\u001b[1m Tool Message \u001b[0m=================================\n",
      "Name: tavily_search\n",
      "\n",
      "{\"query\": \"latest Real Madrid vs Barcelona match winner\", \"follow_up_questions\": null, \"answer\": null, \"images\": [], \"results\": [{\"url\": \"https://www.skysports.com/football/news/11827/13458119/real-madrid-2-1-barcelona-jude-bellingham-scores-winner-in-ferocious-el-clasico-as-real-madrid-go-five-clear-at-top-of-laliga\", \"title\": \"Real Madrid 2-1 Barcelona: Jude Bellingham scores winner in ferocious El Clasico as Real Madrid go five clear at top of LaLiga - Sky Sports\", \"score\": 0.7711725, \"published_date\": \"Sun, 26 Oct 2025 18:19:42 GMT\", \"content\": \"# Real Madrid 2-1 Barcelona: Jude Bellingham scores winner in ferocious El Clasico as Real go five points clear at top of LaLiga Match report as Jude Bellingham settled a tense El Clasico at the Bernabeu to put an end to Barcelona's four-game winning streak in this fixture; Kylian Mbappe was also on the scoresheet; Real Madrid move five points clear of rivals at the top of LaLiga Watch highlights from the La Liga match between Real Madrid and Barcelona. At 22 years and 119 days, Jude Bellingham has become the youngest Real Madrid player to score and assist in an El Clasico match in any competition in the 21st century.\", \"raw_content\": null}, {\"url\": \"https://www.espn.com/soccer/report/_/gameId/748236\", \"title\": \"Real Madrid 2-1 Barcelona (Oct 26, 2025) Game Analysis - ESPN\", \"score\": 0.767847, \"published_date\": \"Sun, 26 Oct 2025 17:26:39 GMT\", \"content\": \"# Real Madrid v Barcelona # Mbappé, Bellingham star as Real Madrid edge Barcelona in Clásico Real Madrid ended its four-game losing streak against rival Barcelona with a 2-1 victory in the first *El Clásico* of the season on Sunday. Madrid won the Spanish league game with goals by Kylian Mbappé and Jude Bellingham. | Real Madrid | 10 | 9 | 0 | 1 | +12 | 27 | ## Mbappé, Bellingham star as Real Madrid edge Barcelona in Clásico Real Madrid ended its four-game losing streak against rival Barcelona with a 2-1 victory in the first El Clásico of the season on Sunday. ESPN BET is available in states where PENN is licensed to offer sports wagering.\", \"raw_content\": null}, {\"url\": \"https://www.nytimes.com/athletic/live-blogs/real-madrid-vs-barcelona-live-updates-el-clasico-score-result/DStH1PVMwCJq/\", \"title\": \"Real Madrid vs Barcelona live updates: El Clasico team news, predictions and more - The New York Times\", \"score\": 0.7192461, \"published_date\": \"Sun, 26 Oct 2025 19:00:34 GMT\", \"content\": \"# Real Madrid edge past Barcelona in entertaining El Clasico: Live updates and reaction ## Real Madrid 2-1 Barcelona — reaction **Real Madrid beat fierce rivals Barcelona 2-1 in a rip-roaring Clasico at the Bernabeu today.** Real Madrid 2 Barcelona 1: Yamal’s big talk backfires as Bellingham seals Clasico win Today, Real Madrid had the beating of Barcelona in just about every department. Real Madrid 2 Barcelona 1: Yamal’s big talk backfires as Bellingham seals Clasico win Put that display in contrast with two other Madrid stars today in Mbappe and Bellingham and it does not reflect so well on him. Despite Madrid's position at the top of La Liga and their good form in the Champions League, there is still talk about his suitability for the Real Madrid job.\", \"raw_content\": null}, {\"url\": \"https://www.skysports.com/football/live-blog/11095/13458037/real-madrid-vs-barcelona-live-el-clasico-match-updates-news-score-and-report\", \"title\": \"Real Madrid vs Barcelona LIVE! El Clasico match updates, news, score and report - Sky Sports\", \"score\": 0.6964752, \"published_date\": \"Sun, 26 Oct 2025 15:39:24 GMT\", \"content\": \"Real Madrid 1-0 Barcelona (Mbappe, 22) Share on Facebook)Share on X&url=https%3A%2F%2Fwww.skysports.com%2Ffootball%2Flive-blog%2F11095%2F13458037%2Freal-madrid-vs-barcelona-live-el-clasico-match-updates-news-score-and-report%3Fpostid%3D10419886%23liveblog-body)Share by email&body=GOAL!!%20Real%20Madrid%201-0%20Barcelona%20(Mbappe%2C%2022) - https%3A%2F%2Fwww.skysports.com%2Ffootball%2Flive-blog%2F11095%2F13458037%2Freal-madrid-vs-barcelona-live-el-clasico-match-updates-news-score-and-report%3Fpostid%3D10419886%23liveblog-body)Copy link Real Madrid 1-0 Barcelona (Mbappe, 12) Share on Facebook)Share on X&url=https%3A%2F%2Fwww.skysports.com%2Ffootball%2Flive-blog%2F11095%2F13458037%2Freal-madrid-vs-barcelona-live-el-clasico-match-updates-news-score-and-report%3Fpostid%3D10419785%23liveblog-body)Share by email&body=GOAL!!%20Real%20Madrid%201-0%20Barcelona%20(Mbappe%2C%2012) - https%3A%2F%2Fwww.skysports.com%2Ffootball%2Flive-blog%2F11095%2F13458037%2Freal-madrid-vs-barcelona-live-el-clasico-match-updates-news-score-and-report%3Fpostid%3D10419785%23liveblog-body)Copy link **Real Madrid team:** Courtois, Valverde, Militao, Huijsen, Carreras, Tchouameni, Arda Guler, Camavinga, Bellingham, Vinicius, Mbappe. With **Jude Bellingham** lining up for Real Madrid, and **Marcus Rashford** named in Barcelona's starting XI, today's El Clasico will mark the first time ever two Englishmen have faced each other in this famous fixture. “In Madrid for El Clasico and had the chance to speak to a Real Madrid legend this week about how to stop Barcelona. **Team to play Real Madrid: Szczesny, Balde, Cubarsi, Ferran, Pedri, Lamine Yamal, De Jong, Kounde, Eric, Fermin, Rashford.**\", \"raw_content\": null}, {\"url\": \"https://www.managingmadrid.com/el-clasico/99785/immediate-reaction-real-madrid-2-1-barcelona\", \"title\": \"Immediate Reaction: Real Madrid 2-1 Barcelona - Managing Madrid\", \"score\": 0.6675167, \"published_date\": \"Sun, 26 Oct 2025 17:23:03 GMT\", \"content\": \"**Real Madrid** **2-1 Barcelona** *(Mbappé & Bellingham). Full-time: Real Madrid 2-1 Barcelona - an El Clàsico victory, and some big performances by plenty of men in white. Real Madrid vs Barcelona, 2025 El Clásico: Predicted lineups Barcelona announce squad for El Clásico against Real Madrid Real Madrid announce squad for El Clásico against Barcelona Referee named for El Clásico between Real Madrid and FC Barcelona Real Madrid vs Barcelona, 2025 El Clásico: Predicted lineups Barcelona announce squad for El Clásico against Real Madrid Real Madrid announce squad for El Clásico against Barcelona Referee named for El Clásico between Real Madrid and FC Barcelona CONFIRMED lineups: Real Madrid vs Barcelona, 2025 El Clasico Three keys to a Real Madrid win over Barcelona in El Clásico\", \"raw_content\": null}], \"response_time\": 0.42, \"request_id\": \"5f21544a-71b2-4fcc-8949-d31263aa646c\"}\n",
      "==================================\u001b[1m Ai Message \u001b[0m==================================\n",
      "\n",
      "The latest Real Madrid vs Barcelona match was won by Real Madrid with a score of 2-1. The match took place on October 26, 2025. The goals for Real Madrid were scored by Kylian Mbappé and Jude Bellingham. [^source^](https://www.skysports.com/football/news/11827/13458119/real-madrid-2-1-barcelona-jude-bellingham-scores-winner-in-ferocious-el-clasico-as-real-madrid-go-five-clear-at-top-of-laliga)\n"
     ]
    },
    {
     "data": {
      "text/markdown": [
       "## Answer:\n",
       "The latest Real Madrid vs Barcelona match was won by Real Madrid with a score of 2-1. The match took place on October 26, 2025. The goals for Real Madrid were scored by Kylian Mbappé and Jude Bellingham. [^source^](https://www.skysports.com/football/news/11827/13458119/real-madrid-2-1-barcelona-jude-bellingham-scores-winner-in-ferocious-el-clasico-as-real-madrid-go-five-clear-at-top-of-laliga)"
      ],
      "text/plain": [
       "<IPython.core.display.Markdown object>"
      ]
     },
     "metadata": {},
     "output_type": "display_data"
    }
   ],
   "source": [
    "# Example 1: Real-time sports information\n",
    "process_query(\"Who won the latest Real Madrid vs Barcelona match? Provide the date of the match as well.\")"
   ]
  },
  {
   "cell_type": "markdown",
   "id": "422-temporal-queries",
   "metadata": {},
   "source": [
    "#### 4.2.2 Temporal Queries with Date Context\n",
    "\n",
    "Demonstrate agent's ability to use temporal context for accurate information retrieval."
   ]
  },
  {
   "cell_type": "code",
   "execution_count": 25,
   "id": "temporal-query",
   "metadata": {},
   "outputs": [
    {
     "name": "stdout",
     "output_type": "stream",
     "text": [
      "================================\u001b[1m Human Message \u001b[0m=================================\n",
      "\n",
      "What are the latest developments in AI research this week?\n",
      "==================================\u001b[1m Ai Message \u001b[0m==================================\n",
      "Tool Calls:\n",
      "  get_current_date (call_X8h0p4mL3ErXoxqdhkSZl5Qp)\n",
      " Call ID: call_X8h0p4mL3ErXoxqdhkSZl5Qp\n",
      "  Args:\n",
      "=================================\u001b[1m Tool Message \u001b[0m=================================\n",
      "Name: get_current_date\n",
      "\n",
      "The current date is: 2025-10-28\n",
      "==================================\u001b[1m Ai Message \u001b[0m==================================\n",
      "Tool Calls:\n",
      "  tavily_search (call_9UJ0me2R0IkvmfoM0EniRZHW)\n",
      " Call ID: call_9UJ0me2R0IkvmfoM0EniRZHW\n",
      "  Args:\n",
      "    query: latest developments in AI research\n",
      "    search_depth: advanced\n",
      "    time_range: week\n",
      "    topic: general\n",
      "=================================\u001b[1m Tool Message \u001b[0m=================================\n",
      "Name: tavily_search\n",
      "\n",
      "{\"query\": \"latest developments in AI research\", \"follow_up_questions\": null, \"answer\": null, \"images\": [], \"results\": [{\"url\": \"https://www.crescendo.ai/news/latest-ai-news-and-updates\", \"title\": \"The Latest AI News and AI Breakthroughs that Matter Most: 2025\", \"content\": \"Summary: Purdue University researchers introduced RAPTOR, an AI-powered defect-detection system combining high-resolution X-ray imaging and machine learning.\", \"score\": 0.6701125, \"raw_content\": null}, {\"url\": \"https://ttms.com/my/an-update-to-supremacy-ai-chatgpt-and-the-race-that-will-change-the-world/\", \"title\": \"AI Supremacy in 2025: Challenges, Breakthroughs, and the ... - TTMS\", \"content\": \"1. Aligning AI with Human Goals: As AI models grow more powerful and creative, keeping their outputs truthful, unbiased, and harmless remains a monumental task. Major AI labs have invested heavily in alignment research. OpenAI, for instance, has continually refined its training techniques to curb unwanted behavior: GPT-5 was explicitly designed to reduce hallucinations and sycophantic answers, and to follow user instructions more faithfully than prior models. Anthropic pioneered a [...] This article offers a comprehensive update on the AI landscape as of October 17, 2025 – covering model breakthroughs, adoption trends, global policy shifts, emerging safety practices, and the physical integration of AI into devices and robotics. If Supremacy asked where the race would lead us – this is where we are now.\\n\\n## 1. Next-Generation AI Models: GPT-5 and the New Titans [...] Beyond phones and voice assistants, AI has permeated other gadgets. Smart home cameras now use AI vision models to distinguish between a burglar, a wandering pet, or a swaying tree branch (reducing false alarms). IoT sensors in industrial settings come with tiny AI chips that do preprocessing – for example, an oil pipeline sensor might use an onboard neural network to detect pressure anomalies in real time and only send alerts (rather than raw data) upstream. This is part of the broader trend\", \"score\": 0.5818027, \"raw_content\": null}, {\"url\": \"https://www.technet.org/media/ai-in-action-october-2025/\", \"title\": \"AI in Action | October 2025 - TechNet\", \"content\": \"How a Gemma model helped discover a new potential cancer therapy pathwayGoogle\\n\\nDoctors develop AI stethoscope that can detect major heart conditions in 15 secondsThe Guardian\\n\\nYour plumber has a new favorite tool: ChatGPTCNN  \\n AI Spotlight[]( [...] NVIDIA-powered agentic AI is set to accelerate every step of the pharmaceutical life cycle in collaboration with IQVIA, the world’s leading provider of clinical research services. IQVIA’s orchestrator agents accelerate workflows and allow researchers to focus on decision-making instead of administrative work. Using its vast databases and deep domain life sciences expertise, IQVIA can train and fine-tune these models for maximum productivity, addressing the growing need for acceleration in [...] TechNet\\nTechNet\\n\\n# AI in Action | October 2025\\n\\nOctober 23, 2025\\n\\nArtificial intelligence (AI) has the potential to help us solve the greatest challenges of our time from health care, agriculture, and education to transportation, energy, and national security.\\n\\nWhen guided by ethics, transparency, and fairness — responsible AI can spark creativity and help usher in a more prosperous and sustainable future.\\n\\nSee how AI is improving our lives, growing our economy, and keeping us safe.\", \"score\": 0.37456247, \"raw_content\": null}, {\"url\": \"https://www.sciencedaily.com/news/computers_math/artificial_intelligence/\", \"title\": \"Artificial Intelligence News - ScienceDaily\", \"content\": \"ScienceDaily\\n\\n# Artificial Intelligence News\\n\\n## Top Headlines\\n\\n## Latest Headlines\\n\\n## Earlier Headlines\\n\\n### Wednesday, June 25, 2025\\n\\n### Sunday, June 22, 2025\\n\\n### Thursday, June 26, 2025\\n\\n### Thursday, June 19, 2025\\n\\n### Sunday, June 22, 2025\\n\\n### Monday, June 16, 2025\\n\\n### Sunday, June 8, 2025\\n\\n### Saturday, June 7, 2025\\n\\n### Tuesday, June 3, 2025\\n\\n### Monday, June 2, 2025\\n\\n### Friday, May 30, 2025\\n\\n### Wednesday, May 28, 2025\\n\\n### Tuesday, May 27, 2025\\n\\n### Thursday, May 22, 2025 [...] ### Wednesday, May 21, 2025\\n\\n### Monday, May 19, 2025\\n\\n### Thursday, May 15, 2025\\n\\n### Wednesday, May 14, 2025\\n\\n### Tuesday, May 13, 2025\\n\\n### Monday, May 12, 2025\\n\\n### Thursday, May 8, 2025\\n\\n### Wednesday, May 7, 2025\\n\\n### Tuesday, May 6, 2025\\n\\n### Monday, May 5, 2025\\n\\n### Thursday, May 1, 2025\\n\\n### Wednesday, April 30, 2025\\n\\n### Monday, April 28, 2025\\n\\n### Friday, April 25, 2025\\n\\n### Thursday, April 24, 2025\\n\\n### Wednesday, April 23, 2025\\n\\n### Tuesday, April 22, 2025 [...] ### Monday, April 21, 2025\\n\\n### Wednesday, April 16, 2025\\n\\n### Tuesday, April 15, 2025\\n\\n### Monday, April 14, 2025\\n\\n### Thursday, April 10, 2025\\n\\n### Wednesday, April 9, 2025\\n\\n### Tuesday, April 8, 2025\\n\\n### Monday, April 7, 2025\\n\\n### Friday, April 4, 2025\\n\\n### Thursday, April 3, 2025\\n\\n### Wednesday, April 2, 2025\\n\\n### Monday, March 31, 2025\\n\\n### Friday, March 28, 2025\\n\\n### Thursday, March 27, 2025\\n\\n## Breaking\\n\\n## Trending Topics\\n\\n## Strange & Offbeat\", \"score\": 0.37120554, \"raw_content\": null}, {\"url\": \"https://news.mit.edu/topic/artificial-intelligence2\", \"title\": \"Artificial intelligence | Massachusetts Institute of Technology\", \"content\": \"A smiling woman with brown hair sitting behind a table with her hands clasped.\\n\\n### Fighting for the health of the planet with AI\\n\\nAssistant Professor Priya Donti’s research applies machine learning to optimize renewable energy.\\n\\nOctober 7, 2025\\n\\nRead full story →\\n\\nInterior of a tokamak fusion reactor\\n\\n### New prediction model could improve the reliability of fusion power plants [...] Read full story →\\n\\nAbstract decorative image\\n\\n### Creating AI that matters\\n\\nHow the MIT-IBM Watson AI Lab is shaping AI-sociotechnical systems for the future.\\n\\nOctober 21, 2025\\n\\nRead full story →\\n\\nAt left, four panels representing bolts of fabric, with an arrow pointing to a pair of jeans and a skirt. Arrows above and below the clothing indicate interchangeability\\n\\n### New software designs eco-friendly clothing that can reassemble into new items [...] The former department chair was an early innovator in the use of artificial intelligence to both study and influence how children learn music.\\n\\nOctober 15, 2025\\n\\nRead full story →\\n\\nKimaya Lecamwasam poses on a white spiral staircase, resting her chin in one hand\\n\\n### Blending neuroscience, AI, and music to create mental health innovations\\n\\nMedia Lab PhD student Kimaya Lecamwasam researches how music can shape well-being.\\n\\nOctober 15, 2025\\n\\nRead full story →\\n\\nAli Aouad portrait photo\", \"score\": 0.33131495, \"raw_content\": null}], \"response_time\": 3.56, \"request_id\": \"cacf9a66-8012-4541-9d44-e8c05830c263\"}\n",
      "==================================\u001b[1m Ai Message \u001b[0m==================================\n",
      "\n",
      "Here are some of the latest developments in AI research this week:\n",
      "\n",
      "1. Purdue University researchers introduced RAPTOR, an AI-powered defect-detection system combining high-resolution X-ray imaging and machine learning. [Read more](https://www.crescendo.ai/news/latest-ai-news-and-updates)\n",
      "\n",
      "2. Major AI labs have invested heavily in alignment research. OpenAI, for instance, has continually refined its training techniques to curb unwanted behavior: GPT-5 was explicitly designed to reduce hallucinations and sycophantic answers, and to follow user instructions more faithfully than prior models. [Read more](https://ttms.com/my/an-update-to-supremacy-ai-chatgpt-and-the-race-that-will-change-the-world/)\n",
      "\n",
      "3. NVIDIA-powered agentic AI is set to accelerate every step of the pharmaceutical life cycle in collaboration with IQVIA, the world’s leading provider of clinical research services. IQVIA’s orchestrator agents accelerate workflows and allow researchers to focus on decision-making instead of administrative work. [Read more](https://www.technet.org/media/ai-in-action-october-2025/)\n",
      "\n",
      "4. At MIT, Assistant Professor Priya Donti’s research applies machine learning to optimize renewable energy. Also, the MIT-IBM Watson AI Lab is shaping AI-sociotechnical systems for the future. [Read more](https://news.mit.edu/topic/artificial-intelligence2)\n",
      "\n",
      "Please visit the provided links for more detailed information.\n"
     ]
    },
    {
     "data": {
      "text/markdown": [
       "## Answer:\n",
       "Here are some of the latest developments in AI research this week:\n",
       "\n",
       "1. Purdue University researchers introduced RAPTOR, an AI-powered defect-detection system combining high-resolution X-ray imaging and machine learning. [Read more](https://www.crescendo.ai/news/latest-ai-news-and-updates)\n",
       "\n",
       "2. Major AI labs have invested heavily in alignment research. OpenAI, for instance, has continually refined its training techniques to curb unwanted behavior: GPT-5 was explicitly designed to reduce hallucinations and sycophantic answers, and to follow user instructions more faithfully than prior models. [Read more](https://ttms.com/my/an-update-to-supremacy-ai-chatgpt-and-the-race-that-will-change-the-world/)\n",
       "\n",
       "3. NVIDIA-powered agentic AI is set to accelerate every step of the pharmaceutical life cycle in collaboration with IQVIA, the world’s leading provider of clinical research services. IQVIA’s orchestrator agents accelerate workflows and allow researchers to focus on decision-making instead of administrative work. [Read more](https://www.technet.org/media/ai-in-action-october-2025/)\n",
       "\n",
       "4. At MIT, Assistant Professor Priya Donti’s research applies machine learning to optimize renewable energy. Also, the MIT-IBM Watson AI Lab is shaping AI-sociotechnical systems for the future. [Read more](https://news.mit.edu/topic/artificial-intelligence2)\n",
       "\n",
       "Please visit the provided links for more detailed information."
      ],
      "text/plain": [
       "<IPython.core.display.Markdown object>"
      ]
     },
     "metadata": {},
     "output_type": "display_data"
    }
   ],
   "source": [
    "# Example 2: Temporal context with current date\n",
    "process_query(\"What are the latest developments in AI research this week?\")"
   ]
  },
  {
   "cell_type": "markdown",
   "id": "advanced-features",
   "metadata": {},
   "source": [
    "## 5. Advanced Features\n",
    "\n",
    "Explore LangGraph's advanced capabilities for enhanced agent functionality using the implemented agent architecture.\n",
    "\n",
    "---"
   ]
  },
  {
   "cell_type": "markdown",
   "id": "51-streaming-architecture",
   "metadata": {},
   "source": [
    "### 5.1 Streaming Architecture and Real-Time Processing\n",
    "LangGraph provides native streaming support for real-time response generation, enabling immediate user feedback during tool execution and reasoning phases.\n",
    "\n",
    "**Streaming Modes Available:**\n",
    "- **Values Mode**: Stream complete state updates after each node execution\n",
    "- **Updates Mode**: Stream incremental state changes within nodes\n",
    "- **Debug Mode**: Stream with full execution context and metadata\n",
    "\n",
    "**Benefits**:\n",
    "- Immediate user feedback during tool calls\n",
    "- Reduced perceived latency for complex queries\n",
    "- Progressive content loading for multi-step reasoning\n",
    "- Enhanced user experience with real-time visibility"
   ]
  },
  {
   "cell_type": "markdown",
   "id": "72dc6b3e",
   "metadata": {},
   "source": [
    "#### 5.1.1 Updates Mode Streaming\n",
    "Stream incremental state changes rather than complete state snapshots."
   ]
  },
  {
   "cell_type": "code",
   "execution_count": null,
   "id": "streaming-demo",
   "metadata": {},
   "outputs": [
    {
     "name": "stdout",
     "output_type": "stream",
     "text": [
      "{'messages': [HumanMessage(content=\"What's the weather like today?\", additional_kwargs={}, response_metadata={}, id='e8bd28b9-fb86-450b-b413-d99dc2635b20')]}\n",
      "{'messages': [HumanMessage(content=\"What's the weather like today?\", additional_kwargs={}, response_metadata={}, id='e8bd28b9-fb86-450b-b413-d99dc2635b20'), AIMessage(content=\"I'm sorry, but as an AI text-based model, I don't have real-time capabilities to provide current weather updates. I recommend checking a reliable weather forecasting website or app for the most accurate information.\", additional_kwargs={'refusal': None}, response_metadata={'token_usage': {'completion_tokens': 42, 'prompt_tokens': 1361, 'total_tokens': 1403, 'completion_tokens_details': {'accepted_prediction_tokens': 0, 'audio_tokens': 0, 'reasoning_tokens': 0, 'rejected_prediction_tokens': 0}, 'prompt_tokens_details': {'audio_tokens': 0, 'cached_tokens': 0}}, 'model_provider': 'openai', 'model_name': 'gpt-4-0613', 'system_fingerprint': None, 'id': 'chatcmpl-CVhP4Tm46uqvPrIRn4oDmbJnxUJFG', 'service_tier': 'default', 'finish_reason': 'stop', 'logprobs': None}, id='lc_run--06d35362-a2c7-4cf0-bf39-dcda5f1d413a-0', usage_metadata={'input_tokens': 1361, 'output_tokens': 42, 'total_tokens': 1403, 'input_token_details': {'audio': 0, 'cache_read': 0}, 'output_token_details': {'audio': 0, 'reasoning': 0}})]}\n"
     ]
    }
   ],
   "source": [
    "def updates_streaming_demo():\n",
    "    \"\"\"\n",
    "    Demonstrate updates mode streaming for granular state monitoring.\n",
    "    Shows only the changes between states, useful for debugging and monitoring.\n",
    "    \"\"\"\n",
    "    query = \"What's today's date and latest AI research developments?\"\n",
    "    inputs = {\"messages\": [(\"user\", query)]}\n",
    "\n",
    "    print(\"=== UPDATES MODE STREAMING ===\")\n",
    "    print(\"Shows only state changes between execution steps:\\n\")\n",
    "\n",
    "    # Stream with updates mode - shows only what changed\n",
    "    updates_stream = graph.stream(inputs, stream_mode=\"updates\")\n",
    "\n",
    "    for i, update in enumerate(updates_stream):\n",
    "        print(f\"Update {i+1}:\")\n",
    "        for node_name, node_update in update.items():\n",
    "            print(f\"  Node '{node_name}' updated:\")\n",
    "            if \"messages\" in node_update:\n",
    "                new_messages = node_update[\"messages\"]\n",
    "                for msg in new_messages:\n",
    "                    print(f\"    + {type(msg).__name__}: {str(msg)[:80]}...\")\n",
    "            print()\n",
    "\n",
    "        if i >= 4:  # Limit for demonstration\n",
    "            break\n",
    "\n",
    "\n",
    "# Execute updates streaming demo\n",
    "demonstrate_updates_streaming()"
   ]
  },
  {
   "cell_type": "markdown",
   "id": "references",
   "metadata": {},
   "source": [
    "## 6. References\n",
    "\n",
    "**Official Documentation**:\n",
    "- [LangGraph Documentation](https://python.langchain.com/docs/langgraph)\n",
    "- [LangGraph GitHub Repository](https://github.com/langchain-ai/langgraph)\n",
    "- [LangChain Documentation](https://python.langchain.com/docs/get_started/introduction)\n",
    "- [OpenAI Function Calling](https://platform.openai.com/docs/guides/function-calling)\n",
    "\n",
    "**ReAct Pattern and Agent Architectures**:\n",
    "- [ReAct: Synergizing Reasoning and Acting](https://arxiv.org/abs/2210.03629)\n",
    "- [Toolformer: Language Models Can Teach Themselves to Use Tools](https://arxiv.org/abs/2302.04761)\n",
    "- [WebGPT: Browser-assisted question-answering](https://arxiv.org/abs/2112.09332)\n",
    "- [Language Models as Tool Users](https://arxiv.org/abs/2302.04761)\n",
    "\n",
    "**LangGraph Specific Resources**:\n",
    "- [LangGraph Tutorials](https://python.langchain.com/docs/langgraph/tutorials)\n",
    "- [Prebuilt Agents](https://python.langchain.com/docs/langgraph/reference/prebuilt)\n",
    "- [State Management](https://python.langchain.com/docs/langgraph/concepts/state)\n",
    "- [Streaming in LangGraph](https://python.langchain.com/docs/langgraph/concepts/streaming)\n",
    "\n",
    "**Tool Integration and APIs**:\n",
    "- [Tavily Search API](https://tavily.com/)\n",
    "- [LangChain Tools](https://python.langchain.com/docs/concepts/tools)\n",
    "- [Tool Calling Best Practices](https://python.langchain.com/docs/concepts/tool_calling)\n",
    "\n",
    "**Production and Deployment**:\n",
    "- [LangServe](https://python.langchain.com/docs/langserve) - REST API deployment\n",
    "- [LangSmith](https://smith.langchain.com/) - Monitoring and evaluation\n",
    "- [OpenAI Production Best Practices](https://platform.openai.com/docs/guides/production-best-practices)\n",
    "- [LangGraph Production Guide](https://python.langchain.com/docs/langgraph/how-tos/deploy)\n",
    "\n",
    "**Related Papers and Research**:\n",
    "- [Chain-of-Thought Prompting](https://arxiv.org/abs/2201.11903)\n",
    "- [Constitutional AI](https://arxiv.org/abs/2212.08073)\n",
    "- [Tool Learning with Foundation Models](https://arxiv.org/abs/2304.08354)\n",
    "\n",
    "**Community Resources**:\n",
    "- [LangChain Community](https://github.com/langchain-ai/langchain-community)\n",
    "- [LangGraph Examples](https://github.com/langchain-ai/langgraph/tree/main/examples)\n",
    "- [LangChain Blog](https://blog.langchain.dev/)\n",
    "\n",
    "---\n",
    "\n",
    "*Last updated: October 2025*\n",
    "\n",
    "*This notebook demonstrates professional-grade LangGraph ReAct agent implementation with comprehensive documentation, practical examples, and production-ready patterns.*"
   ]
  }
 ],
 "metadata": {
  "kernelspec": {
   "display_name": ".venv",
   "language": "python",
   "name": "python3"
  },
  "language_info": {
   "codemirror_mode": {
    "name": "ipython",
    "version": 3
   },
   "file_extension": ".py",
   "mimetype": "text/x-python",
   "name": "python",
   "nbconvert_exporter": "python",
   "pygments_lexer": "ipython3",
   "version": "3.13.0"
  }
 },
 "nbformat": 4,
 "nbformat_minor": 5
}
