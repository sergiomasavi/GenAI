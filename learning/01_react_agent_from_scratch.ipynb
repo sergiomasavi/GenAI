{
 "cells": [
  {
   "cell_type": "markdown",
   "id": "header",
   "metadata": {},
   "source": [
    "# ReAct Agent Implementation with OpenAI\n",
    "\n",
    "**Author**: Sergio Masa Avis  \n",
    "**Date**: October 2025\n",
    "\n",
    "Implementation of the ReAct (Reasoning + Acting) pattern using OpenAI's API. ReAct agent with single and multi-iteration execution modes.\n",
    "\n",
    "---\n",
    "\n",
    "## Table of Contents\n",
    "\n",
    "1. [ReAct Pattern Overview](#react-pattern-overview)\n",
    "2. [Architecture](#architecture)\n",
    "3. [Implementation](#implementation)\n",
    "4. [Examples](#examples)\n",
    "5. [Limitations](#limitations)\n",
    "6. [References](#references)\n",
    "\n",
    "---"
   ]
  },
  {
   "cell_type": "markdown",
   "id": "react-pattern-overview",
   "metadata": {},
   "source": [
    "## 1. ReAct Pattern Overview\n",
    "\n",
    "**ReAct** (Reasoning + Acting) is a prompting framework that enables LLMs to alternate between reasoning and action-taking to solve tasks.\n",
    "\n",
    "### Core Mechanism\n",
    "\n",
    "ReAct execution cycle:\n",
    "1. **Thought**: Analyze current state and determine next action\n",
    "2. **Action**: Execute tool or function call\n",
    "3. **Observation**: Receive and process action result\n",
    "4. **Repeat**: Continue until task completion\n",
    "\n",
    "![ReAct Cycle](images/01_react_agent/react_cycle.png)\n",
    "\n",
    "### Problem Statement\n",
    "\n",
    "Direct LLM prompting limitations:\n",
    "- No access to real-time data\n",
    "- Cannot perform reliable calculations\n",
    "- May hallucinate information\n",
    "\n",
    "ReAct solutions:\n",
    "- Tool access for data retrieval\n",
    "- Computation delegation to deterministic functions\n",
    "- Response grounding in actual observations\n",
    "\n",
    "### Execution Modes\n",
    "\n",
    "**Single Iteration**: One action per query\n",
    "\n",
    "![Single Iteration](images/01_react_agent/single_iteration.png)\n",
    "\n",
    "**Multi-Iteration**: Multiple actions until task completion\n",
    "\n",
    "![Multi Iteration](images/01_react_agent/multi_iteration.png)\n",
    "\n",
    "---"
   ]
  },
  {
   "cell_type": "markdown",
   "id": "architecture",
   "metadata": {},
   "source": [
    "## 2. Architecture\n",
    "\n",
    "System components:\n",
    "\n",
    "![Architecture](images/01_react_agent/architecture_system.png)\n",
    "\n",
    "### Data Flow\n",
    "\n",
    "![Data Flow](images/01_react_agent/data_flow_sequence.png)\n",
    "\n",
    "### Design Decisions\n",
    "\n",
    "| Component | Implementation | Notes |\n",
    "|-----------|----------------|-------|\n",
    "| State Management | Stateful conversation history | Context preservation across interactions |\n",
    "| Prompt Design | Explicit system instructions | Behavior definition through examples |\n",
    "| Action Parsing | Regex pattern matching | String-based, limited flexibility |\n",
    "| Execution Mode | Single-shot and looped | One action per query or multi-iteration |\n",
    "\n",
    "---"
   ]
  },
  {
   "cell_type": "markdown",
   "id": "implementation",
   "metadata": {},
   "source": [
    "## 3. Implementation\n",
    "\n",
    "---"
   ]
  },
  {
   "cell_type": "markdown",
   "id": "31-setup",
   "metadata": {},
   "source": [
    "### 3.1 Environment Setup\n",
    "\n",
    "Configuration:\n",
    "- API key loaded from environment variables\n",
    "- OpenAI client initialization\n",
    "- Connection verification"
   ]
  },
  {
   "cell_type": "code",
   "execution_count": 1,
   "id": "setup-code",
   "metadata": {},
   "outputs": [
    {
     "name": "stdout",
     "output_type": "stream",
     "text": [
      "Connection verified: Hello, world! What's your name?\n"
     ]
    }
   ],
   "source": [
    "import os\n",
    "import re\n",
    "from dotenv import load_dotenv\n",
    "from openai import OpenAI\n",
    "\n",
    "_ = load_dotenv()\n",
    "assert os.getenv(\"OPENAI_API_KEY\"), \"Missing OPENAI_API_KEY environment variable\"\n",
    "\n",
    "client = OpenAI()\n",
    "\n",
    "# Verify connection\n",
    "resp = client.chat.completions.create(\n",
    "    model=\"gpt-4o-mini\",\n",
    "    messages=[{\"role\": \"user\", \"content\": \"Say 'Hello, world!' and my name in English if you are ready.\"}],\n",
    ")\n",
    "\n",
    "print(f\"Connection verified: {resp.choices[0].message.content}\")"
   ]
  },
  {
   "cell_type": "markdown",
   "id": "32-agent-class",
   "metadata": {},
   "source": [
    "### 3.2 Agent Class\n",
    "\n",
    "Properties:\n",
    "- Conversation history management\n",
    "- System prompt configuration\n",
    "- OpenAI API integration\n",
    "- Conversation History. \n",
    "\n",
    "\n",
    "#### Implementation Details\n",
    "\n",
    "- `__init__`: Client and message history initialization\n",
    "- `__call__`: `agent(message)` syntax support\n",
    "- `execute`: API communication with temperature=0 for deterministic outputs"
   ]
  },
  {
   "cell_type": "code",
   "execution_count": 2,
   "id": "agent-class-code",
   "metadata": {},
   "outputs": [],
   "source": [
    "class Agent:\n",
    "    \"\"\"\n",
    "    Stateful conversational agent with OpenAI integration.\n",
    "\n",
    "    Maintains conversation history and manages system prompt configuration.\n",
    "    \"\"\"\n",
    "\n",
    "    def __init__(self, system: str = \"\"):\n",
    "        \"\"\"\n",
    "        Args:\n",
    "            system: System prompt defining agent behavior\n",
    "        \"\"\"\n",
    "        self.client = OpenAI()\n",
    "        self.system = system\n",
    "        self.messages = []\n",
    "\n",
    "        if self.system:\n",
    "            self.messages.append({\"role\": \"system\", \"content\": self.system})\n",
    "\n",
    "    def __call__(self, message: str) -> str:\n",
    "        \"\"\"\n",
    "        Process message and return response.\n",
    "\n",
    "        Args:\n",
    "            message: User input\n",
    "\n",
    "        Returns:\n",
    "            Agent response\n",
    "        \"\"\"\n",
    "        self.messages.append({\"role\": \"user\", \"content\": message})\n",
    "        result = self.execute()\n",
    "        self.messages.append({\"role\": \"assistant\", \"content\": result})\n",
    "        return result\n",
    "\n",
    "    def execute(self) -> str:\n",
    "        \"\"\"\n",
    "        Execute API call with full conversation history.\n",
    "\n",
    "        Returns:\n",
    "            Model response content\n",
    "        \"\"\"\n",
    "        completion = self.client.chat.completions.create(\n",
    "            model=\"gpt-4o-mini\",\n",
    "            temperature=0,  # Deterministic outputs (reliable parsing)\n",
    "            messages=self.messages\n",
    "        )\n",
    "        return completion.choices[0].message.content"
   ]
  },
  {
   "cell_type": "markdown",
   "id": "33-system-prompt",
   "metadata": {},
   "source": [
    "### 3.3 System Prompt\n",
    "\n",
    "System prompt specification:\n",
    "1. Execution loop (Thought → Action → PAUSE → Observation)\n",
    "2. Available tools and their syntax\n",
    "3. Example session with proper usage\n",
    "\n",
    "![Prompt Anatomy](images/01_react_agent/prompt_anatomy.png)\n",
    "\n",
    "#### Design Elements\n",
    "\n",
    "**PAUSE keyword**: Parser signal for LLM observation awaiting. Prevents tool output hallucination.\n",
    "\n",
    "**Specific examples**: Few-shot learning through detailed example sessions.\n",
    "\n",
    "**Explicit syntax**: Clear tool invocation format, reduced parsing errors."
   ]
  },
  {
   "cell_type": "code",
   "execution_count": 3,
   "id": "prompt-code",
   "metadata": {},
   "outputs": [
    {
     "name": "stdout",
     "output_type": "stream",
     "text": [
      "System prompt configured (1751 characters)\n"
     ]
    }
   ],
   "source": [
    "prompt = \"\"\"\n",
    "You run in a loop of Thought, Action, PAUSE, Observation.\n",
    "At the end of the loop you output an Answer.\n",
    "\n",
    "Use Thought to describe your thoughts about the question you have been asked.\n",
    "IMPORTANT: In your Thought, always explicitly mention the SPECIFIC services, rates, or values you are working with.\n",
    "\n",
    "Use Action to run one of the actions available to you - then return PAUSE.\n",
    "Observation will be the result of running those actions.\n",
    "\n",
    "Your available actions are:\n",
    "\n",
    "calculate_project_cost:\n",
    "e.g. calculate_project_cost: web: 40, data_science: 20\n",
    "Runs a calculation for the total project cost based on hours and hourly rates of different services\n",
    "\n",
    "get_service_rate:\n",
    "e.g. get_service_rate: web\n",
    "returns the hourly rate for the freelance service when given its name.\n",
    "\n",
    "Example session:\n",
    "\n",
    "Question: What is the total cost for 40 hours of web development and 20 hours of data science?\n",
    "Thought: I need to find out the hourly rate for web development first, then the rate for data science, and finally calculate the total cost for 40 hours of web development and 20 hours of data science.\n",
    "Action: get_service_rate: web\n",
    "PAUSE\n",
    "\n",
    "Observation: The hourly rate for web_development is $75\n",
    "\n",
    "Thought: Now I know web development costs $75/hour. I need to get the rate for data science next.\n",
    "Action: get_service_rate: data_science\n",
    "PAUSE\n",
    "\n",
    "Observation: The hourly rate for data_science is $95\n",
    "\n",
    "Thought: Now I have both rates: web development is $75/hour and data science is $95/hour. I can calculate the total cost for 40 hours of web development and 20 hours of data science.\n",
    "Action: calculate_project_cost: web: 40, data_science: 20\n",
    "PAUSE\n",
    "\n",
    "Observation: The total project cost is $4900\n",
    "\n",
    "Answer: The total cost for 40 hours of web development and 20 hours of data science is $4900\n",
    "\"\"\".strip()\n",
    "\n",
    "print(f\"System prompt configured ({len(prompt)} characters)\")"
   ]
  },
  {
   "cell_type": "markdown",
   "id": "34-tools",
   "metadata": {},
   "source": [
    "### 3.4 Tools\n",
    "\n",
    "Tool functions for agent invocation:\n",
    "- String input from LLM\n",
    "- String output for LLM consumption\n",
    "- Graceful error handling\n",
    "\n",
    "![Tool Design](images/01_react_agent/tool_design_principles.png)\n",
    "\n",
    "#### Design Principles\n",
    "\n",
    "| Principle | Implementation |\n",
    "|-----------|---------------|\n",
    "| String I/O | Text-based interfaces, LLM compatibility |\n",
    "| Descriptive output | Full sentences, contextual information |\n",
    "| Error handling | Informative failure messages |\n",
    "| Logging | Execution debug visibility |\n",
    "\n",
    "#### Implementation\n",
    "\n",
    "![Tool Implementation](images/01_react_agent/tool_implementation.png)"
   ]
  },
  {
   "cell_type": "code",
   "execution_count": 4,
   "id": "tools-code",
   "metadata": {},
   "outputs": [
    {
     "name": "stdout",
     "output_type": "stream",
     "text": [
      "Tools registered: ['get_service_rate', 'calculate_project_cost']\n"
     ]
    }
   ],
   "source": [
    "# Rate database (USD/hour)\n",
    "freelance_rates = {\n",
    "    \"web\": 75,\n",
    "    \"data_science\": 95,\n",
    "    \"mobile_app\": 85,\n",
    "    \"ai_ml\": 120,\n",
    "    \"backend_api\": 80,\n",
    "    \"frontend\": 70,\n",
    "}\n",
    "\n",
    "def get_service_rate(service: str) -> str:\n",
    "    \"\"\"\n",
    "    Retrieve hourly rate for specified service.\n",
    "\n",
    "    Args:\n",
    "        service: Service name\n",
    "\n",
    "    Returns:\n",
    "        Rate information or error message\n",
    "    \"\"\"\n",
    "    print(f\"[get_service_rate] Query: {service}\")\n",
    "    service = service.lower().strip()\n",
    "\n",
    "    if service in freelance_rates:\n",
    "        return f\"The hourly rate for {service} is ${freelance_rates[service]}\"\n",
    "    return f\"Service '{service}' not found. Available: {', '.join(freelance_rates.keys())}\"\n",
    "\n",
    "def calculate_project_cost(services: str) -> str:\n",
    "    \"\"\"\n",
    "    Calculate total cost for multiple services.\n",
    "\n",
    "    Args:\n",
    "        services: Format \"service: hours, service: hours\"\n",
    "\n",
    "    Returns:\n",
    "        Total cost or error message\n",
    "    \"\"\"\n",
    "    print(f\"[calculate_project_cost] Input: {services}\")\n",
    "    total = 0.0\n",
    "\n",
    "    for item in services.split(', '):\n",
    "        try:\n",
    "            service, hours = item.split(': ')\n",
    "            service = service.lower().strip()\n",
    "            hours = int(hours)\n",
    "\n",
    "            if service in freelance_rates:\n",
    "                cost = freelance_rates[service] * hours\n",
    "                total += cost\n",
    "                print(f\"  {hours}h {service} @ ${freelance_rates[service]}/h = ${cost}\")\n",
    "            else:\n",
    "                return f\"Service '{service}' not found\"\n",
    "        except ValueError:\n",
    "            return f\"Parse error: '{item}'. Expected format: 'service: hours'\"\n",
    "\n",
    "    print(f\"  Total: ${total}\")\n",
    "    return f\"The total project cost is ${total}\"\n",
    "\n",
    "known_actions = {\n",
    "    \"get_service_rate\": get_service_rate,\n",
    "    \"calculate_project_cost\": calculate_project_cost,\n",
    "}\n",
    "\n",
    "print(f\"Tools registered: {list(known_actions.keys())}\")"
   ]
  },
  {
   "cell_type": "markdown",
   "id": "35-parsing",
   "metadata": {},
   "source": [
    "### 3.5 Action Parsing\n",
    "\n",
    "Action extraction and execution from LLM responses.\n",
    "\n",
    "![Parsing Flow](images/01_react_agent/parsing_challenge.png)\n",
    "\n",
    "#### Regex Pattern\n",
    "\n",
    "```python\n",
    "action_re = re.compile(r'^Action: (\\w+): (.*)$')\n",
    "```\n",
    "\n",
    "| Component | Match |\n",
    "|-----------|-------|\n",
    "| `^Action:` | Line prefix |\n",
    "| `(\\w+)` | Tool name (captured) |\n",
    "| `:` | Separator |\n",
    "| `(.*)$` | Arguments (captured) |\n",
    "\n",
    "Example:\n",
    "```\n",
    "Input:  \"Action: get_service_rate: web_development\"\n",
    "Match:  tool=\"get_service_rate\", args=\"web_development\"\n",
    "```"
   ]
  },
  {
   "cell_type": "code",
   "execution_count": 5,
   "id": "parsing-code",
   "metadata": {},
   "outputs": [],
   "source": [
    "action_re = re.compile(r'^Action: (\\w+): (.*)$')"
   ]
  },
  {
   "cell_type": "markdown",
   "id": "36-execution-modes",
   "metadata": {},
   "source": [
    "### 3.6 Execution Modes\n",
    "\n",
    "Two execution approaches for different use cases.\n",
    "\n",
    "---"
   ]
  },
  {
   "cell_type": "markdown",
   "id": "361-single-iteration",
   "metadata": {},
   "source": [
    "#### 3.6.1 Single Iteration\n",
    "\n",
    "Execute one ReAct cycle: single tool invocation per query."
   ]
  },
  {
   "cell_type": "code",
   "execution_count": 6,
   "id": "single-iteration-code",
   "metadata": {},
   "outputs": [],
   "source": [
    "def query(question: str, verbose: bool = True):\n",
    "    \"\"\"\n",
    "    Execute ReAct query with action parsing.\n",
    "\n",
    "    Args:\n",
    "        question: User query\n",
    "        verbose: Enable detailed output\n",
    "\n",
    "    Returns:\n",
    "        Tool observation or None if no action found\n",
    "    \"\"\"\n",
    "    bot = Agent(system=prompt)\n",
    "    result = bot(question)\n",
    "\n",
    "    if verbose:\n",
    "        print(\"\\n\" + \"=\"*70)\n",
    "        print(\"AGENT RESPONSE\")\n",
    "        print(\"=\"*70)\n",
    "        print(result)\n",
    "        print(\"=\"*70 + \"\\n\")\n",
    "\n",
    "    # Parse actions from response\n",
    "    actions = [\n",
    "        action_re.match(line)\n",
    "        for line in result.split('\\n')\n",
    "        if action_re.match(line)\n",
    "    ]\n",
    "\n",
    "    if actions:\n",
    "        action, action_input = actions[0].groups()\n",
    "\n",
    "        if action not in known_actions:\n",
    "            raise ValueError(f\"Unknown action: {action}\")\n",
    "\n",
    "        if verbose:\n",
    "            print(f\"EXECUTING: {action}({action_input})\\n\")\n",
    "\n",
    "        observation = known_actions[action](action_input)\n",
    "\n",
    "        if verbose:\n",
    "            print(f\"\\nOBSERVATION: {observation}\\n\")\n",
    "\n",
    "        return observation\n",
    "\n",
    "    if verbose:\n",
    "        print(\"No action found in response\\n\")\n",
    "    return None"
   ]
  },
  {
   "cell_type": "markdown",
   "id": "362-multi-iteration",
   "metadata": {},
   "source": [
    "#### 3.6.2 Multi-Iteration Loop\n",
    "\n",
    "Execute multiple ReAct cycles until task completion or loop limit reached.\n",
    "\n",
    "![Multi-Iteration Control Flow](images/01_react_agent/multi_iteration_control.png)"
   ]
  },
  {
   "cell_type": "code",
   "execution_count": null,
   "id": "multi-iteration-code",
   "metadata": {},
   "outputs": [],
   "source": [
    "def query_with_loop(question: str, max_loops: int = 5):\n",
    "    \"\"\"\n",
    "    Execute ReAct query with multiple iterations until completion.\n",
    "\n",
    "    Args:\n",
    "        question: User query\n",
    "        max_loops: Maximum number of iterations\n",
    "\n",
    "    Returns:\n",
    "        Final agent response\n",
    "    \"\"\"\n",
    "    i = 0\n",
    "    bot = Agent(system=prompt)\n",
    "    next_prompt = question\n",
    "\n",
    "    while i < max_loops:\n",
    "        i += 1\n",
    "        result = bot(next_prompt)\n",
    "\n",
    "        print(\"\\n\" + \"=\" * 70)\n",
    "        print(f\"AGENT RESPONSE - LOOP {i}/{max_loops}\")\n",
    "        print(\"=\" * 70)\n",
    "        print(result)\n",
    "        print(\"=\" * 70 + \"\\n\")\n",
    "\n",
    "        # Parse actions from response\n",
    "        actions = [\n",
    "            action_re.match(line) for line in result.split(\"\\n\") if action_re.match(line)\n",
    "        ]\n",
    "\n",
    "        if actions:\n",
    "            action, action_input = actions[0].groups()\n",
    "            if action not in known_actions:\n",
    "                raise ValueError(f\"Unknown action: {action}\")\n",
    "\n",
    "            print(f\"EXECUTING: {action}({action_input})\\n\")\n",
    "            observation = known_actions[action](action_input)\n",
    "            print(f\"\\nOBSERVATION: {observation}\\n\")\n",
    "\n",
    "            next_prompt = f\"Observation: {observation}\\n\"\n",
    "        else:\n",
    "            # Agent finished - return final response\n",
    "            return result\n",
    "\n",
    "    # Max loops reached - return last response\n",
    "    print(f\"⚠️ Max loops ({max_loops}) reached\")\n",
    "    return result"
   ]
  },
  {
   "cell_type": "markdown",
   "id": "examples",
   "metadata": {},
   "source": [
    "## 4. Examples\n",
    "\n",
    "Agent behavior test cases.\n",
    "\n",
    "---"
   ]
  },
  {
   "cell_type": "markdown",
   "id": "41-single-iteration-examples",
   "metadata": {},
   "source": [
    "### 4.1 Single Iteration Examples\n",
    "\n",
    "---"
   ]
  },
  {
   "cell_type": "markdown",
   "id": "411-simple-lookup",
   "metadata": {},
   "source": [
    "#### 4.1.1 Simple Rate Lookup\n",
    "\n",
    "Single tool invocation, data retrieval."
   ]
  },
  {
   "cell_type": "code",
   "execution_count": 8,
   "id": "example-1-code",
   "metadata": {},
   "outputs": [
    {
     "name": "stdout",
     "output_type": "stream",
     "text": [
      "\n",
      "======================================================================\n",
      "AGENT RESPONSE\n",
      "======================================================================\n",
      "Thought: I need to find out the hourly rate for AI/ML development specifically. I will perform an action to get the service rate for AI/ML development. \n",
      "\n",
      "Action: get_service_rate: ai_ml\n",
      "PAUSE\n",
      "======================================================================\n",
      "\n",
      "EXECUTING: get_service_rate(ai_ml)\n",
      "\n",
      "[get_service_rate] Query: ai_ml\n",
      "\n",
      "OBSERVATION: The hourly rate for ai_ml is $120\n",
      "\n"
     ]
    },
    {
     "data": {
      "text/plain": [
       "'The hourly rate for ai_ml is $120'"
      ]
     },
     "execution_count": 8,
     "metadata": {},
     "output_type": "execute_result"
    }
   ],
   "source": [
    "query(\"What is the hourly rate for AI/ML development?\")"
   ]
  },
  {
   "cell_type": "markdown",
   "id": "412-error-handling",
   "metadata": {},
   "source": [
    "#### 4.1.2 Unknown Service\n",
    "\n",
    "Tool error handling, informative response."
   ]
  },
  {
   "cell_type": "code",
   "execution_count": 9,
   "id": "example-2-code",
   "metadata": {},
   "outputs": [
    {
     "name": "stdout",
     "output_type": "stream",
     "text": [
      "\n",
      "======================================================================\n",
      "AGENT RESPONSE\n",
      "======================================================================\n",
      "Thought: I need to find out the hourly rate for blockchain development specifically. I will perform an action to retrieve this information. \n",
      "Action: get_service_rate: blockchain_development\n",
      "PAUSE\n",
      "======================================================================\n",
      "\n",
      "EXECUTING: get_service_rate(blockchain_development)\n",
      "\n",
      "[get_service_rate] Query: blockchain_development\n",
      "\n",
      "OBSERVATION: Service 'blockchain_development' not found. Available: web, data_science, mobile_app, ai_ml, backend_api, frontend\n",
      "\n"
     ]
    },
    {
     "data": {
      "text/plain": [
       "\"Service 'blockchain_development' not found. Available: web, data_science, mobile_app, ai_ml, backend_api, frontend\""
      ]
     },
     "execution_count": 9,
     "metadata": {},
     "output_type": "execute_result"
    }
   ],
   "source": [
    "query(\"What is the hourly rate for blockchain development?\")"
   ]
  },
  {
   "cell_type": "markdown",
   "id": "413-iteration-limit",
   "metadata": {},
   "source": [
    "#### 4.1.3 Multi-Step Query (Limited)\n",
    "\n",
    "Single-iteration stops after first action despite requiring multiple steps."
   ]
  },
  {
   "cell_type": "code",
   "execution_count": 10,
   "id": "example-3-code",
   "metadata": {},
   "outputs": [
    {
     "name": "stdout",
     "output_type": "stream",
     "text": [
      "\n",
      "======================================================================\n",
      "AGENT RESPONSE\n",
      "======================================================================\n",
      "Thought: I need to find out the hourly rate for web development first, then the rate for data science, and finally calculate the total cost for 40 hours of web development and 20 hours of data science. \n",
      "\n",
      "Action: get_service_rate: web\n",
      "PAUSE\n",
      "======================================================================\n",
      "\n",
      "EXECUTING: get_service_rate(web)\n",
      "\n",
      "[get_service_rate] Query: web\n",
      "\n",
      "OBSERVATION: The hourly rate for web is $75\n",
      "\n"
     ]
    },
    {
     "data": {
      "text/plain": [
       "'The hourly rate for web is $75'"
      ]
     },
     "execution_count": 10,
     "metadata": {},
     "output_type": "execute_result"
    }
   ],
   "source": [
    "query(\"What is the total cost for 40 hours of web development and 20 hours of data science?\")"
   ]
  },
  {
   "cell_type": "markdown",
   "id": "42-multi-iteration-examples",
   "metadata": {},
   "source": [
    "### 4.2 Multi-Iteration Examples\n",
    "\n",
    "---"
   ]
  },
  {
   "cell_type": "markdown",
   "id": "421-complete-calculation",
   "metadata": {},
   "source": [
    "#### 4.2.1 Complete Multi-Step Calculation\n",
    "\n",
    "Multi-iteration execution completing the full ReAct cycle."
   ]
  },
  {
   "cell_type": "code",
   "execution_count": 11,
   "id": "multi-example-1-code",
   "metadata": {},
   "outputs": [
    {
     "name": "stdout",
     "output_type": "stream",
     "text": [
      "\n",
      "======================================================================\n",
      "AGENT RESPONSE - LOOP 1/5\n",
      "======================================================================\n",
      "Thought: I need to find the hourly rate for web development and data science to calculate the total cost for 40 hours of web development and 20 hours of data science. First, I will get the rate for web development. \n",
      "\n",
      "Action: get_service_rate: web\n",
      "PAUSE\n",
      "======================================================================\n",
      "\n",
      "EXECUTING: get_service_rate(web)\n",
      "\n",
      "[get_service_rate] Query: web\n",
      "\n",
      "OBSERVATION: The hourly rate for web is $75\n",
      "\n",
      "\n",
      "======================================================================\n",
      "AGENT RESPONSE - LOOP 2/5\n",
      "======================================================================\n",
      "Thought: Now that I know the hourly rate for web development is $75, I need to find the hourly rate for data science to proceed with the total cost calculation. \n",
      "\n",
      "Action: get_service_rate: data_science\n",
      "PAUSE\n",
      "======================================================================\n",
      "\n",
      "EXECUTING: get_service_rate(data_science)\n",
      "\n",
      "[get_service_rate] Query: data_science\n",
      "\n",
      "OBSERVATION: The hourly rate for data_science is $95\n",
      "\n",
      "\n",
      "======================================================================\n",
      "AGENT RESPONSE - LOOP 3/5\n",
      "======================================================================\n",
      "Thought: I now have both rates: web development is $75/hour and data science is $95/hour. I can calculate the total cost for 40 hours of web development and 20 hours of data science using these rates. \n",
      "\n",
      "Action: calculate_project_cost: web: 40, data_science: 20\n",
      "PAUSE\n",
      "======================================================================\n",
      "\n",
      "EXECUTING: calculate_project_cost(web: 40, data_science: 20)\n",
      "\n",
      "[calculate_project_cost] Input: web: 40, data_science: 20\n",
      "  40h web @ $75/h = $3000\n",
      "  20h data_science @ $95/h = $1900\n",
      "  Total: $4900.0\n",
      "\n",
      "OBSERVATION: The total project cost is $4900.0\n",
      "\n",
      "\n",
      "======================================================================\n",
      "AGENT RESPONSE - LOOP 4/5\n",
      "======================================================================\n",
      "Answer: The total cost for 40 hours of web development and 20 hours of data science is $4900.\n",
      "======================================================================\n",
      "\n"
     ]
    },
    {
     "data": {
      "text/plain": [
       "'Answer: The total cost for 40 hours of web development and 20 hours of data science is $4900.'"
      ]
     },
     "execution_count": 11,
     "metadata": {},
     "output_type": "execute_result"
    }
   ],
   "source": [
    "query_with_loop(\"What is the total cost for 40 hours of web development and 20 hours of data science?\")"
   ]
  },
  {
   "cell_type": "markdown",
   "id": "422-complex-query",
   "metadata": {},
   "source": [
    "#### 4.2.2 Complex Project Estimation\n",
    "\n",
    "Multiple service rates and calculations."
   ]
  },
  {
   "cell_type": "code",
   "execution_count": 12,
   "id": "multi-example-2-code",
   "metadata": {},
   "outputs": [
    {
     "name": "stdout",
     "output_type": "stream",
     "text": [
      "\n",
      "======================================================================\n",
      "AGENT RESPONSE - LOOP 1/5\n",
      "======================================================================\n",
      "Thought: I need to find the hourly rates for frontend development, backend API development, and mobile app development. Once I have those rates, I can calculate the total cost for 30 hours of frontend work, 50 hours of backend API work, and 25 hours of mobile app development. \n",
      "\n",
      "Action: get_service_rate: frontend\n",
      "PAUSE\n",
      "======================================================================\n",
      "\n",
      "EXECUTING: get_service_rate(frontend)\n",
      "\n",
      "[get_service_rate] Query: frontend\n",
      "\n",
      "OBSERVATION: The hourly rate for frontend is $70\n",
      "\n",
      "\n",
      "======================================================================\n",
      "AGENT RESPONSE - LOOP 2/5\n",
      "======================================================================\n",
      "Thought: I now know that frontend development costs $70/hour. Next, I need to get the rate for backend API development. \n",
      "\n",
      "Action: get_service_rate: backend_api\n",
      "PAUSE\n",
      "======================================================================\n",
      "\n",
      "EXECUTING: get_service_rate(backend_api)\n",
      "\n",
      "[get_service_rate] Query: backend_api\n",
      "\n",
      "OBSERVATION: The hourly rate for backend_api is $80\n",
      "\n",
      "\n",
      "======================================================================\n",
      "AGENT RESPONSE - LOOP 3/5\n",
      "======================================================================\n",
      "Thought: Now I have the rate for backend API development, which is $80/hour. Next, I need to find the rate for mobile app development. \n",
      "\n",
      "Action: get_service_rate: mobile_app\n",
      "PAUSE\n",
      "======================================================================\n",
      "\n",
      "EXECUTING: get_service_rate(mobile_app)\n",
      "\n",
      "[get_service_rate] Query: mobile_app\n",
      "\n",
      "OBSERVATION: The hourly rate for mobile_app is $85\n",
      "\n",
      "\n",
      "======================================================================\n",
      "AGENT RESPONSE - LOOP 4/5\n",
      "======================================================================\n",
      "Thought: I now have all the rates: frontend development is $70/hour, backend API development is $80/hour, and mobile app development is $85/hour. I can now calculate the total cost for 30 hours of frontend work, 50 hours of backend API work, and 25 hours of mobile app development. \n",
      "\n",
      "Action: calculate_project_cost: frontend: 30, backend_api: 50, mobile_app: 25\n",
      "PAUSE\n",
      "======================================================================\n",
      "\n",
      "EXECUTING: calculate_project_cost(frontend: 30, backend_api: 50, mobile_app: 25)\n",
      "\n",
      "[calculate_project_cost] Input: frontend: 30, backend_api: 50, mobile_app: 25\n",
      "  30h frontend @ $70/h = $2100\n",
      "  50h backend_api @ $80/h = $4000\n",
      "  25h mobile_app @ $85/h = $2125\n",
      "  Total: $8225.0\n",
      "\n",
      "OBSERVATION: The total project cost is $8225.0\n",
      "\n",
      "\n",
      "======================================================================\n",
      "AGENT RESPONSE - LOOP 5/5\n",
      "======================================================================\n",
      "Answer: The total cost for 30 hours of frontend work, 50 hours of backend API work, and 25 hours of mobile app development is $8225.\n",
      "======================================================================\n",
      "\n"
     ]
    },
    {
     "data": {
      "text/plain": [
       "'Answer: The total cost for 30 hours of frontend work, 50 hours of backend API work, and 25 hours of mobile app development is $8225.'"
      ]
     },
     "execution_count": 12,
     "metadata": {},
     "output_type": "execute_result"
    }
   ],
   "source": [
    "query_with_loop(\"I need a quote for a project with 30 hours of frontend work, 50 hours of backend API, and 25 hours of mobile app development. What's the total cost?\")"
   ]
  },
  {
   "cell_type": "markdown",
   "id": "limitations",
   "metadata": {},
   "source": [
    "## 5. Limitations\n",
    "\n",
    "Implementation constraints and considerations.\n",
    "\n",
    "---\n",
    "\n",
    "### String Parsing Fragility\n",
    "\n",
    "Regex-based parsing fails on format variations:\n",
    "\n",
    "| Format | Status |\n",
    "|--------|--------|\n",
    "| `\"Action: tool: input\"` | Valid |\n",
    "| `\"Action: tool : input\"` | Invalid (space) |\n",
    "| `\"Action:tool: input\"` | Invalid (no space) |\n",
    "| `\"action: tool: input\"` | Invalid (case) |\n",
    "\n",
    "**Alternative**: OpenAI function calling for structured outputs.\n",
    "\n",
    "---\n",
    "\n",
    "### Loop Control\n",
    "\n",
    "Multi-iteration mode relies on hard loop limits rather than intelligent termination detection.\n",
    "\n",
    "**Limitation**: May stop prematurely or continue unnecessarily.\n",
    "\n",
    "**Alternative**: Answer pattern detection for dynamic termination.\n",
    "\n",
    "---\n",
    "\n",
    "### Additional Constraints\n",
    "\n",
    "| Issue | Impact | Alternative |\n",
    "|-------|--------|-------------|\n",
    "| No retry logic | Single failure = task failure | Error recovery implementation |\n",
    "| No validation | Tools can crash silently | Type checking + try-catch |\n",
    "| Hardcoded tools | Requires code changes | Dynamic tool registry |\n",
    "| No persistence | Session-bound | State storage implementation |\n",
    "| No cost tracking | Unknown spending | Token usage monitoring |\n",
    "\n",
    "---"
   ]
  },
  {
   "cell_type": "markdown",
   "id": "references",
   "metadata": {},
   "source": [
    "## 6. References\n",
    "\n",
    "**Papers**:\n",
    "- [ReAct: Synergizing Reasoning and Acting](https://arxiv.org/abs/2210.03629)\n",
    "- [Toolformer: Language Models Can Teach Themselves to Use Tools](https://arxiv.org/abs/2302.04761)\n",
    "\n",
    "**Documentation**:\n",
    "- [OpenAI Function Calling](https://platform.openai.com/docs/guides/function-calling)\n",
    "- [LangGraph](https://langchain-ai.github.io/langgraph/)\n",
    "\n",
    "---\n",
    "\n",
    "*Last updated: October 2025*"
   ]
  }
 ],
 "metadata": {
  "kernelspec": {
   "display_name": ".venv",
   "language": "python",
   "name": "python3"
  },
  "language_info": {
   "codemirror_mode": {
    "name": "ipython",
    "version": 3
   },
   "file_extension": ".py",
   "mimetype": "text/x-python",
   "name": "python",
   "nbconvert_exporter": "python",
   "pygments_lexer": "ipython3",
   "version": "3.13.0"
  }
 },
 "nbformat": 4,
 "nbformat_minor": 5
}
