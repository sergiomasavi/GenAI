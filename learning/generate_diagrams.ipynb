{
 "cells": [
  {
   "cell_type": "markdown",
   "id": "header",
   "metadata": {},
   "source": [
    "# Diagram Generation Utility\n",
    "\n",
    "Generates PNG images from Mermaid diagram definitions using mermaid.ink API.\n",
    "\n",
    "---"
   ]
  },
  {
   "cell_type": "code",
   "execution_count": null,
   "id": "setup",
   "metadata": {},
   "outputs": [],
   "source": [
    "import requests\n",
    "import base64\n",
    "import os\n",
    "from pathlib import Path\n",
    "\n",
    "def mermaid_to_png(mermaid_code: str, filename: str, output_dir: str = \"images/01_react_agent\", retries: int = 3):\n",
    "    \"\"\"\n",
    "    Convert Mermaid diagram to PNG via mermaid.ink API.\n",
    "\n",
    "    Args:\n",
    "        mermaid_code: Mermaid syntax diagram definition\n",
    "        filename: Output filename (without extension)\n",
    "        output_dir: Target directory path\n",
    "        retries: Number of retry attempts on failure\n",
    "\n",
    "    Returns:\n",
    "        bool: True if successful, False otherwise\n",
    "    \"\"\"\n",
    "    while retries > 0:\n",
    "        try:\n",
    "            encoded = base64.b64encode(mermaid_code.encode('utf-8')).decode('utf-8')\n",
    "            url = f\"https://mermaid.ink/img/{encoded}\"\n",
    "\n",
    "            response = requests.get(url, timeout=15)\n",
    "            response.raise_for_status()\n",
    "\n",
    "            Path(output_dir).mkdir(parents=True, exist_ok=True)\n",
    "            output_path = f\"{output_dir}/{filename}.png\"\n",
    "\n",
    "            with open(output_path, 'wb') as f:\n",
    "                f.write(response.content)\n",
    "\n",
    "            print(f\"Generated: {output_path}\")\n",
    "            return True\n",
    "        except Exception as e:\n",
    "            retries -= 1\n",
    "            continue\n",
    "\n",
    "    print(f\"Failed: {filename}\")\n",
    "    return False"
   ]
  },
  {
   "cell_type": "markdown",
   "id": "diagrams",
   "metadata": {},
   "source": [
    "## Diagram Definitions\n",
    "\n",
    "### 1. ReAct Cycle"
   ]
  },
  {
   "cell_type": "code",
   "execution_count": null,
   "id": "react-cycle",
   "metadata": {},
   "outputs": [
    {
     "name": "stdout",
     "output_type": "stream",
     "text": [
      "Generated: images/01_react_agent/react_cycle.png\n"
     ]
    },
    {
     "data": {
      "text/plain": [
       "True"
      ]
     },
     "execution_count": 2,
     "metadata": {},
     "output_type": "execute_result"
    }
   ],
   "source": [
    "react_cycle = \"\"\"\n",
    "graph LR\n",
    "    A[Thought] --> B[Action]\n",
    "    B --> C[Observation]\n",
    "    C --> A\n",
    "\n",
    "    style A fill:#e3f2fd,stroke:#000000,stroke-width:2px\n",
    "    style B fill:#fff3e0,stroke:#000000,stroke-width:2px\n",
    "    style C fill:#e8f5e9,stroke:#000000,stroke-width:2px\n",
    "\"\"\".strip()\n",
    "\n",
    "mermaid_to_png(react_cycle, \"react_cycle\")"
   ]
  },
  {
   "cell_type": "markdown",
   "id": "single-iteration",
   "metadata": {},
   "source": [
    "### 2. Single Iteration"
   ]
  },
  {
   "cell_type": "code",
   "execution_count": null,
   "id": "single-iteration-code",
   "metadata": {},
   "outputs": [
    {
     "name": "stdout",
     "output_type": "stream",
     "text": [
      "Generated: images/01_react_agent/single_iteration.png\n"
     ]
    },
    {
     "data": {
      "text/plain": [
       "True"
      ]
     },
     "execution_count": 3,
     "metadata": {},
     "output_type": "execute_result"
    }
   ],
   "source": [
    "single_iteration = \"\"\"\n",
    "graph LR\n",
    "    U[User Request] --> T[Thought]\n",
    "    T --> A[Action]\n",
    "    A --> O[Observation]\n",
    "    O --> R[Result]\n",
    "\n",
    "    style U fill:#e3f2fd,stroke:#000000\n",
    "    style T fill:#f0f0f0,stroke:#000000\n",
    "    style A fill:#fff3e0,stroke:#000000\n",
    "    style O fill:#e8f5e9,stroke:#000000\n",
    "    style R fill:#ffffff,stroke:#000000\n",
    "\"\"\".strip()\n",
    "\n",
    "mermaid_to_png(single_iteration, \"single_iteration\")"
   ]
  },
  {
   "cell_type": "markdown",
   "id": "multi-iteration",
   "metadata": {},
   "source": [
    "### 3. Multi-Iteration"
   ]
  },
  {
   "cell_type": "code",
   "execution_count": null,
   "id": "multi-iteration-code",
   "metadata": {},
   "outputs": [
    {
     "name": "stdout",
     "output_type": "stream",
     "text": [
      "Generated: images/01_react_agent/multi_iteration.png\n"
     ]
    },
    {
     "data": {
      "text/plain": [
       "True"
      ]
     },
     "execution_count": 4,
     "metadata": {},
     "output_type": "execute_result"
    }
   ],
   "source": [
    "multi_iteration = \"\"\"\n",
    "graph TD\n",
    "    U[User Request] --> T1[Thought 1]\n",
    "    T1 --> AC1[Action 1]\n",
    "    AC1 --> O1[Observation 1]\n",
    "    O1 --> T2[Thought 2]\n",
    "    T2 --> AC2[Action 2]\n",
    "    AC2 --> O2[Observation 2]\n",
    "    O2 --> T3[Thought 3]\n",
    "    T3 --> AC3[Action 3]\n",
    "    AC3 --> O3[Observation 3]\n",
    "    O3 --> Answer[Final Answer]\n",
    "\n",
    "    classDef userClass fill:#e3f2fd,stroke:#000000\n",
    "    classDef thoughtClass fill:#f0f0f0,stroke:#000000\n",
    "    classDef actionClass fill:#e0e0e0,stroke:#000000\n",
    "    classDef obsClass fill:#e8f5e9,stroke:#000000\n",
    "    classDef answerClass fill:#ffffff,stroke:#000000,stroke-width:3px\n",
    "\n",
    "    class U userClass\n",
    "    class T1,T2,T3 thoughtClass\n",
    "    class AC1,AC2,AC3 actionClass\n",
    "    class O1,O2,O3 obsClass\n",
    "    class Answer answerClass\n",
    "\"\"\".strip()\n",
    "\n",
    "mermaid_to_png(multi_iteration, \"multi_iteration\")"
   ]
  },
  {
   "cell_type": "markdown",
   "id": "architecture",
   "metadata": {},
   "source": [
    "### 4. Architecture System"
   ]
  },
  {
   "cell_type": "code",
   "execution_count": null,
   "id": "architecture-code",
   "metadata": {},
   "outputs": [
    {
     "name": "stdout",
     "output_type": "stream",
     "text": [
      "Generated: images/01_react_agent/architecture_system.png\n"
     ]
    },
    {
     "data": {
      "text/plain": [
       "True"
      ]
     },
     "execution_count": 5,
     "metadata": {},
     "output_type": "execute_result"
    }
   ],
   "source": [
    "architecture_system = \"\"\"\n",
    "graph TD\n",
    "    subgraph System[\"ReAct Agent System\"]\n",
    "        A[\"Agent Class<br/>- Conversation history<br/>- OpenAI communication<br/>- Response handling\"]\n",
    "        B[\"System Prompt<br/>- ReAct instructions<br/>- Available tools<br/>- Examples\"]\n",
    "        C[\"Tools<br/>- get_service_rate()<br/>- calculate_project_cost()\"]\n",
    "        D[\"Parser & Executor<br/>- Parse actions<br/>- Call functions<br/>- Return observations\"]\n",
    "\n",
    "        A --> B\n",
    "        A --> D\n",
    "        D --> C\n",
    "    end\n",
    "\n",
    "    classDef agentClass fill:#e3f2fd,stroke:#000000\n",
    "    classDef promptClass fill:#e0e0e0,stroke:#000000\n",
    "    classDef toolsClass fill:#f0f0f0,stroke:#000000\n",
    "    classDef parserClass fill:#e8f5e9,stroke:#000000\n",
    "\n",
    "    class A agentClass\n",
    "    class B promptClass\n",
    "    class C toolsClass\n",
    "    class D parserClass\n",
    "\"\"\".strip()\n",
    "\n",
    "mermaid_to_png(architecture_system, \"architecture_system\")"
   ]
  },
  {
   "cell_type": "markdown",
   "id": "data-flow",
   "metadata": {},
   "source": [
    "### 5. Data Flow Sequence"
   ]
  },
  {
   "cell_type": "code",
   "execution_count": null,
   "id": "data-flow-code",
   "metadata": {},
   "outputs": [
    {
     "name": "stdout",
     "output_type": "stream",
     "text": [
      "Generated: images/01_react_agent/data_flow_sequence.png\n"
     ]
    },
    {
     "data": {
      "text/plain": [
       "True"
      ]
     },
     "execution_count": 6,
     "metadata": {},
     "output_type": "execute_result"
    }
   ],
   "source": [
    "data_flow_sequence = \"\"\"\n",
    "sequenceDiagram\n",
    "    participant U as User\n",
    "    participant A as Agent\n",
    "    participant P as Parser\n",
    "    participant T as Tools\n",
    "\n",
    "    U->>A: Request web dev rate\n",
    "    A->>A: Generate ReAct response\n",
    "    A->>P: Send action to parser\n",
    "    P->>P: Parse with regex\n",
    "    P->>T: Execute tool function\n",
    "    T->>P: Return 75 USD per hour\n",
    "    P->>U: Send observation\n",
    "\"\"\".strip()\n",
    "\n",
    "mermaid_to_png(data_flow_sequence, \"data_flow_sequence\")"
   ]
  },
  {
   "cell_type": "markdown",
   "id": "prompt-anatomy",
   "metadata": {},
   "source": [
    "### 6. Prompt Anatomy"
   ]
  },
  {
   "cell_type": "code",
   "execution_count": null,
   "id": "prompt-anatomy-code",
   "metadata": {},
   "outputs": [
    {
     "name": "stdout",
     "output_type": "stream",
     "text": [
      "Generated: images/01_react_agent/prompt_anatomy.png\n"
     ]
    },
    {
     "data": {
      "text/plain": [
       "True"
      ]
     },
     "execution_count": 7,
     "metadata": {},
     "output_type": "execute_result"
    }
   ],
   "source": [
    "prompt_anatomy = \"\"\"\n",
    "graph TD\n",
    "    A[System Prompt] --> B[Loop Definition]\n",
    "    A --> C[Component Definitions]\n",
    "    A --> D[Available Tools]\n",
    "    A --> E[Example Session]\n",
    "\n",
    "    E --> E1[Key: Show Specific Items]\n",
    "\n",
    "    style A fill:#e3f2fd,stroke:#000000,stroke-width:3px\n",
    "    style B fill:#ffffff,stroke:#000000\n",
    "    style C fill:#e8f5e9,stroke:#000000\n",
    "    style D fill:#e8f5e9,stroke:#000000\n",
    "    style E fill:#ffffff,stroke:#000000\n",
    "    style E1 fill:#e3f2fd,stroke:#000000,stroke-width:2px\n",
    "\"\"\".strip()\n",
    "\n",
    "mermaid_to_png(prompt_anatomy, \"prompt_anatomy\")"
   ]
  },
  {
   "cell_type": "markdown",
   "id": "tool-design",
   "metadata": {},
   "source": [
    "### 7. Tool Design Principles"
   ]
  },
  {
   "cell_type": "code",
   "execution_count": null,
   "id": "tool-design-code",
   "metadata": {},
   "outputs": [
    {
     "name": "stdout",
     "output_type": "stream",
     "text": [
      "Generated: images/01_react_agent/tool_design_principles.png\n"
     ]
    },
    {
     "data": {
      "text/plain": [
       "True"
      ]
     },
     "execution_count": 8,
     "metadata": {},
     "output_type": "execute_result"
    }
   ],
   "source": [
    "tool_design_principles = \"\"\"\n",
    "graph LR\n",
    "    A[\"String Input<br/>from LLM\"] --> B[\"Process<br/>lookup/compute\"] --> C[\"String Output<br/>to LLM\"]\n",
    "\n",
    "    style A fill:#e3f2fd,stroke:#000000\n",
    "    style B fill:#ffffff,stroke:#000000\n",
    "    style C fill:#e8f5e9,stroke:#000000\n",
    "\"\"\".strip()\n",
    "\n",
    "mermaid_to_png(tool_design_principles, \"tool_design_principles\")"
   ]
  },
  {
   "cell_type": "markdown",
   "id": "tool-implementation",
   "metadata": {},
   "source": [
    "### 8. Tool Implementation"
   ]
  },
  {
   "cell_type": "code",
   "execution_count": null,
   "id": "tool-implementation-code",
   "metadata": {},
   "outputs": [
    {
     "name": "stdout",
     "output_type": "stream",
     "text": [
      "Generated: images/01_react_agent/tool_implementation.png\n"
     ]
    },
    {
     "data": {
      "text/plain": [
       "True"
      ]
     },
     "execution_count": 9,
     "metadata": {},
     "output_type": "execute_result"
    }
   ],
   "source": [
    "tool_implementation = \"\"\"\n",
    "graph TD\n",
    "    subgraph T1[\"<b>get_service_rate</b>\"]\n",
    "        direction TB\n",
    "        I1[\"<b>Input</b><br/>web_development\"]\n",
    "        L1[\"<b>Lookup</b><br/>freelance_rates<br/>[web_development]\"]\n",
    "        O1[\"<b>Output</b><br/>Rate: 75 USD/hour\"]\n",
    "\n",
    "        I1 --> L1 --> O1\n",
    "    end\n",
    "\n",
    "    subgraph T2[\"<b>calculate_project_cost</b>\"]\n",
    "        direction TB\n",
    "        I2[\"<b>Input</b><br/>web_development: 40<br/>data_science: 20\"]\n",
    "        P2[\"<b>Parse</b><br/>[(web_dev, 40)<br/>(data_sci, 20)]\"]\n",
    "        C2[\"<b>Calculate</b><br/>75×40 + 95×20<br/>= 4900 USD\"]\n",
    "        O2[\"<b>Output</b><br/>Total: 4900 USD\"]\n",
    "\n",
    "        I2 --> P2 --> C2 --> O2\n",
    "    end\n",
    "\n",
    "    style T1 fill:#e3f2fd,stroke:#000000,stroke-width:2px\n",
    "    style T2 fill:#e8f5e9,stroke:#000000,stroke-width:2px\n",
    "    style I1 fill:#ffffff,stroke:#000000\n",
    "    style L1 fill:#ffffff,stroke:#000000\n",
    "    style O1 fill:#ffffff,stroke:#000000\n",
    "    style I2 fill:#ffffff,stroke:#000000\n",
    "    style P2 fill:#ffffff,stroke:#000000\n",
    "    style C2 fill:#ffffff,stroke:#000000\n",
    "    style O2 fill:#ffffff,stroke:#000000\n",
    "\"\"\".strip()\n",
    "\n",
    "mermaid_to_png(tool_implementation, \"tool_implementation\")"
   ]
  },
  {
   "cell_type": "markdown",
   "id": "parsing-challenge",
   "metadata": {},
   "source": [
    "### 9. Parsing Challenge"
   ]
  },
  {
   "cell_type": "code",
   "execution_count": null,
   "id": "parsing-challenge-code",
   "metadata": {},
   "outputs": [
    {
     "name": "stdout",
     "output_type": "stream",
     "text": [
      "Generated: images/01_react_agent/parsing_challenge.png\n"
     ]
    },
    {
     "data": {
      "text/plain": [
       "True"
      ]
     },
     "execution_count": 10,
     "metadata": {},
     "output_type": "execute_result"
    }
   ],
   "source": [
    "parsing_challenge = \"\"\"\n",
    "graph LR\n",
    "    A[Text Output] --> B[Parse]\n",
    "    B --> C[Validate]\n",
    "    C --> D[Execute]\n",
    "    D --> E[Result]\n",
    "\n",
    "    style A fill:#e3f2fd,stroke:#000000\n",
    "    style B fill:#ffffff,stroke:#000000\n",
    "    style C fill:#e8f5e9,stroke:#000000\n",
    "    style D fill:#e3f2fd,stroke:#000000\n",
    "    style E fill:#ffffff,stroke:#000000\n",
    "\"\"\".strip()\n",
    "\n",
    "mermaid_to_png(parsing_challenge, \"parsing_challenge\")"
   ]
  },
  {
   "cell_type": "markdown",
   "id": "single-iteration-limitation",
   "metadata": {},
   "source": [
    "### 10. Single Iteration Limitation"
   ]
  },
  {
   "cell_type": "code",
   "execution_count": null,
   "id": "single-iteration-limitation-code",
   "metadata": {},
   "outputs": [
    {
     "name": "stdout",
     "output_type": "stream",
     "text": [
      "Generated: images/01_react_agent/single_iteration_limitation.png\n"
     ]
    },
    {
     "data": {
      "text/plain": [
       "True"
      ]
     },
     "execution_count": 11,
     "metadata": {},
     "output_type": "execute_result"
    }
   ],
   "source": [
    "single_iteration_limitation = \"\"\"\n",
    "graph TD\n",
    "    Q[\"User: Cost for 40h web dev + 20h data science?\"] --> T1[\"Thought 1: Need web dev rate\"]\n",
    "    T1 --> A1[\"Action: get_service_rate: web_development\"]\n",
    "    A1 --> O1[\"Observation: 75 USD/hour\"]\n",
    "    O1 --> STOP[\"STOPS HERE<br/>(Should continue but doesn't)\"]\n",
    "\n",
    "    O1 -.-> T2[\"Thought 2: Need data science rate\"]\n",
    "    T2 -.-> A2[\"Action: get_service_rate: data_science\"]\n",
    "    A2 -.-> O2[\"Observation: 95 USD/hour\"]\n",
    "    O2 -.-> T3[\"Thought 3: Calculate total cost\"]\n",
    "    T3 -.-> A3[\"Action: calculate_project_cost\"]\n",
    "    A3 -.-> Answer[\"Final Answer: 4900 USD\"]\n",
    "\n",
    "    classDef stopClass fill:#e3f2fd,stroke:#000000,stroke-width:3px\n",
    "    classDef answerClass fill:#e8f5e9,stroke:#000000\n",
    "\n",
    "    class STOP stopClass\n",
    "    class Answer answerClass\n",
    "\"\"\".strip()\n",
    "\n",
    "mermaid_to_png(single_iteration_limitation, \"single_iteration_limitation\")"
   ]
  },
  {
   "cell_type": "markdown",
   "id": "multi-iteration-control",
   "metadata": {},
   "source": [
    "### 11. Multi-Iteration Control Flow"
   ]
  },
  {
   "cell_type": "code",
   "execution_count": null,
   "id": "multi-iteration-control-code",
   "metadata": {},
   "outputs": [
    {
     "name": "stdout",
     "output_type": "stream",
     "text": [
      "Generated: images/01_react_agent/multi_iteration_control.png\n"
     ]
    },
    {
     "data": {
      "text/plain": [
       "True"
      ]
     },
     "execution_count": 12,
     "metadata": {},
     "output_type": "execute_result"
    }
   ],
   "source": [
    "multi_iteration_control = \"\"\"\n",
    "graph TD\n",
    "    Start[Start: question] --> Init[i = 0<br/>next_prompt = question]\n",
    "    Init --> Check{i < max_loops?}\n",
    "    Check -->|No| MaxReached[⚠️ Max loops reached<br/>Return result]\n",
    "    Check -->|Yes| Increment[i += 1<br/>Get LLM response]\n",
    "    Increment --> Parse[Parse actions]\n",
    "    Parse --> HasActions{Actions found?}\n",
    "    HasActions -->|No| Complete[✅ Task complete<br/>Return result]\n",
    "    HasActions -->|Yes| Execute[Execute tool<br/>Set next_prompt]\n",
    "    Execute --> Check\n",
    "\n",
    "    style Start fill:#e3f2fd,stroke:#000000\n",
    "    style Init fill:#f0f0f0,stroke:#000000\n",
    "    style Check fill:#fff3e0,stroke:#000000\n",
    "    style MaxReached fill:#ffebee,stroke:#000000,stroke-width:2px\n",
    "    style Complete fill:#e8f5e9,stroke:#000000,stroke-width:2px\n",
    "    style Execute fill:#ffffff,stroke:#000000\n",
    "\"\"\".strip()\n",
    "\n",
    "mermaid_to_png(multi_iteration_control, \"multi_iteration_control\")"
   ]
  },
  {
   "cell_type": "markdown",
   "id": "verification",
   "metadata": {},
   "source": [
    "## Verification\n",
    "\n",
    "Validate all expected diagrams were generated successfully."
   ]
  },
  {
   "cell_type": "code",
   "execution_count": 13,
   "id": "final-assert",
   "metadata": {},
   "outputs": [
    {
     "name": "stdout",
     "output_type": "stream",
     "text": [
      "Checking generated images...\n",
      "\n",
      "OK: react_cycle.png (6,269 bytes)\n",
      "OK: single_iteration.png (7,987 bytes)\n",
      "OK: multi_iteration.png (20,140 bytes)\n",
      "OK: architecture_system.png (24,547 bytes)\n",
      "OK: data_flow_sequence.png (23,205 bytes)\n",
      "OK: prompt_anatomy.png (14,182 bytes)\n",
      "OK: tool_design_principles.png (8,369 bytes)\n",
      "OK: tool_implementation.png (39,159 bytes)\n",
      "OK: parsing_challenge.png (8,236 bytes)\n",
      "OK: single_iteration_limitation.png (44,794 bytes)\n",
      "OK: multi_iteration_control.png (36,518 bytes)\n",
      "\n",
      "Summary: 11/11 images found\n",
      "\n",
      "Verification complete: All diagrams generated successfully\n"
     ]
    }
   ],
   "source": [
    "expected_images = [\n",
    "    \"react_cycle.png\",\n",
    "    \"single_iteration.png\",\n",
    "    \"multi_iteration.png\",\n",
    "    \"architecture_system.png\",\n",
    "    \"data_flow_sequence.png\",\n",
    "    \"prompt_anatomy.png\",\n",
    "    \"tool_design_principles.png\",\n",
    "    \"tool_implementation.png\",\n",
    "    \"parsing_challenge.png\",\n",
    "    \"single_iteration_limitation.png\",\n",
    "    \"multi_iteration_control.png\",\n",
    "]\n",
    "\n",
    "images_dir = \"images/01_react_agent\"\n",
    "\n",
    "print(\"Checking generated images...\\n\")\n",
    "\n",
    "missing_images = []\n",
    "found_images = []\n",
    "\n",
    "for image in expected_images:\n",
    "    image_path = os.path.join(images_dir, image)\n",
    "    if os.path.exists(image_path):\n",
    "        file_size = os.path.getsize(image_path)\n",
    "        print(f\"OK: {image} ({file_size:,} bytes)\")\n",
    "        found_images.append(image)\n",
    "    else:\n",
    "        print(f\"MISSING: {image}\")\n",
    "        missing_images.append(image)\n",
    "\n",
    "print(f\"\\nSummary: {len(found_images)}/{len(expected_images)} images found\")\n",
    "\n",
    "if missing_images:\n",
    "    print(f\"Missing: {missing_images}\")\n",
    "\n",
    "assert len(missing_images) == 0, f\"Verification failed: {len(missing_images)} images missing\"\n",
    "assert len(found_images) == len(expected_images), f\"Expected {len(expected_images)}, found {len(found_images)}\"\n",
    "\n",
    "print(\"\\nVerification complete: All diagrams generated successfully\")"
   ]
  },
  {
   "cell_type": "code",
   "execution_count": null,
   "id": "5c2106d0",
   "metadata": {},
   "outputs": [],
   "source": []
  }
 ],
 "metadata": {
  "kernelspec": {
   "display_name": ".venv",
   "language": "python",
   "name": "python3"
  },
  "language_info": {
   "codemirror_mode": {
    "name": "ipython",
    "version": 3
   },
   "file_extension": ".py",
   "mimetype": "text/x-python",
   "name": "python",
   "nbconvert_exporter": "python",
   "pygments_lexer": "ipython3",
   "version": "3.13.0"
  }
 },
 "nbformat": 4,
 "nbformat_minor": 5
}
